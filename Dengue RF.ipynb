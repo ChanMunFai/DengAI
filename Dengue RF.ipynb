{
 "cells": [
  {
   "cell_type": "markdown",
   "metadata": {},
   "source": [
    "# Initialisation "
   ]
  },
  {
   "cell_type": "code",
   "execution_count": 1,
   "metadata": {},
   "outputs": [],
   "source": [
    "%load_ext autoreload\n",
    "%autoreload 2\n",
    "\n",
    "%matplotlib inline"
   ]
  },
  {
   "cell_type": "code",
   "execution_count": 2,
   "metadata": {},
   "outputs": [
    {
     "name": "stderr",
     "output_type": "stream",
     "text": [
      "/Users/chanmunfai/opt/anaconda3/envs/fastai-cpu/lib/python3.6/site-packages/sklearn/utils/deprecation.py:143: FutureWarning: The sklearn.ensemble.forest module is  deprecated in version 0.22 and will be removed in version 0.24. The corresponding classes / functions should instead be imported from sklearn.ensemble. Anything that cannot be imported from sklearn.ensemble is now part of the private API.\n",
      "  warnings.warn(message, FutureWarning)\n"
     ]
    }
   ],
   "source": [
    "from fastai.imports import *\n",
    "from fastai.structured import *\n",
    "\n",
    "from pandas_summary import DataFrameSummary\n",
    "from sklearn.ensemble import RandomForestRegressor, RandomForestClassifier\n",
    "from IPython.display import display\n",
    "\n",
    "from sklearn import metrics"
   ]
  },
  {
   "cell_type": "markdown",
   "metadata": {},
   "source": [
    "## Pre-processsing \n",
    "\n",
    "Here, we will remove all missing values, convert datetime into a numeric form and extract feautures from it, convert count into a logarithmic form and drop columns 'casual' and 'registered' as these are unavailable on our test set. \n",
    "\n",
    "We will not have to re-run this everytime as we will save the pre-processed train file into a feather format. "
   ]
  },
  {
   "cell_type": "code",
   "execution_count": 4,
   "metadata": {},
   "outputs": [],
   "source": [
    "train_features = pd.read_csv(\"/Users/chanmunfai/fastai/courses/ml1/Dengue/dengue_features_train.csv\", low_memory = False)"
   ]
  },
  {
   "cell_type": "code",
   "execution_count": 6,
   "metadata": {},
   "outputs": [],
   "source": [
    "train_labels = pd.read_csv(\"/Users/chanmunfai/fastai/courses/ml1/Dengue/dengue_labels_train.csv\", low_memory = False)"
   ]
  },
  {
   "cell_type": "code",
   "execution_count": 8,
   "metadata": {},
   "outputs": [
    {
     "data": {
      "text/plain": [
       "((1456, 24), (1456, 4))"
      ]
     },
     "execution_count": 8,
     "metadata": {},
     "output_type": "execute_result"
    }
   ],
   "source": [
    "train_features.shape, train_labels.shape"
   ]
  },
  {
   "cell_type": "code",
   "execution_count": 10,
   "metadata": {},
   "outputs": [],
   "source": [
    "def display_all(df):\n",
    "    with pd.option_context(\"display.max_rows\", 1000, \"display.max_columns\", 1000): \n",
    "        display(df)"
   ]
  },
  {
   "cell_type": "code",
   "execution_count": 13,
   "metadata": {},
   "outputs": [
    {
     "data": {
      "text/html": [
       "<div>\n",
       "<style scoped>\n",
       "    .dataframe tbody tr th:only-of-type {\n",
       "        vertical-align: middle;\n",
       "    }\n",
       "\n",
       "    .dataframe tbody tr th {\n",
       "        vertical-align: top;\n",
       "    }\n",
       "\n",
       "    .dataframe thead th {\n",
       "        text-align: right;\n",
       "    }\n",
       "</style>\n",
       "<table border=\"1\" class=\"dataframe\">\n",
       "  <thead>\n",
       "    <tr style=\"text-align: right;\">\n",
       "      <th></th>\n",
       "      <th>1451</th>\n",
       "      <th>1452</th>\n",
       "      <th>1453</th>\n",
       "      <th>1454</th>\n",
       "      <th>1455</th>\n",
       "    </tr>\n",
       "  </thead>\n",
       "  <tbody>\n",
       "    <tr>\n",
       "      <th>city</th>\n",
       "      <td>iq</td>\n",
       "      <td>iq</td>\n",
       "      <td>iq</td>\n",
       "      <td>iq</td>\n",
       "      <td>iq</td>\n",
       "    </tr>\n",
       "    <tr>\n",
       "      <th>year</th>\n",
       "      <td>2010</td>\n",
       "      <td>2010</td>\n",
       "      <td>2010</td>\n",
       "      <td>2010</td>\n",
       "      <td>2010</td>\n",
       "    </tr>\n",
       "    <tr>\n",
       "      <th>weekofyear</th>\n",
       "      <td>21</td>\n",
       "      <td>22</td>\n",
       "      <td>23</td>\n",
       "      <td>24</td>\n",
       "      <td>25</td>\n",
       "    </tr>\n",
       "    <tr>\n",
       "      <th>week_start_date</th>\n",
       "      <td>2010-05-28</td>\n",
       "      <td>2010-06-04</td>\n",
       "      <td>2010-06-11</td>\n",
       "      <td>2010-06-18</td>\n",
       "      <td>2010-06-25</td>\n",
       "    </tr>\n",
       "    <tr>\n",
       "      <th>ndvi_ne</th>\n",
       "      <td>0.34275</td>\n",
       "      <td>0.160157</td>\n",
       "      <td>0.247057</td>\n",
       "      <td>0.333914</td>\n",
       "      <td>0.298186</td>\n",
       "    </tr>\n",
       "    <tr>\n",
       "      <th>ndvi_nw</th>\n",
       "      <td>0.3189</td>\n",
       "      <td>0.160371</td>\n",
       "      <td>0.146057</td>\n",
       "      <td>0.245771</td>\n",
       "      <td>0.232971</td>\n",
       "    </tr>\n",
       "    <tr>\n",
       "      <th>ndvi_se</th>\n",
       "      <td>0.256343</td>\n",
       "      <td>0.136043</td>\n",
       "      <td>0.250357</td>\n",
       "      <td>0.278886</td>\n",
       "      <td>0.274214</td>\n",
       "    </tr>\n",
       "    <tr>\n",
       "      <th>ndvi_sw</th>\n",
       "      <td>0.292514</td>\n",
       "      <td>0.225657</td>\n",
       "      <td>0.233714</td>\n",
       "      <td>0.325486</td>\n",
       "      <td>0.315757</td>\n",
       "    </tr>\n",
       "    <tr>\n",
       "      <th>precipitation_amt_mm</th>\n",
       "      <td>55.3</td>\n",
       "      <td>86.47</td>\n",
       "      <td>58.94</td>\n",
       "      <td>59.67</td>\n",
       "      <td>63.22</td>\n",
       "    </tr>\n",
       "    <tr>\n",
       "      <th>reanalysis_air_temp_k</th>\n",
       "      <td>299.334</td>\n",
       "      <td>298.33</td>\n",
       "      <td>296.599</td>\n",
       "      <td>296.346</td>\n",
       "      <td>298.097</td>\n",
       "    </tr>\n",
       "    <tr>\n",
       "      <th>reanalysis_avg_temp_k</th>\n",
       "      <td>300.771</td>\n",
       "      <td>299.393</td>\n",
       "      <td>297.593</td>\n",
       "      <td>297.521</td>\n",
       "      <td>299.836</td>\n",
       "    </tr>\n",
       "    <tr>\n",
       "      <th>reanalysis_dew_point_temp_k</th>\n",
       "      <td>296.826</td>\n",
       "      <td>296.453</td>\n",
       "      <td>295.501</td>\n",
       "      <td>295.324</td>\n",
       "      <td>295.807</td>\n",
       "    </tr>\n",
       "    <tr>\n",
       "      <th>reanalysis_max_air_temp_k</th>\n",
       "      <td>309.7</td>\n",
       "      <td>308.5</td>\n",
       "      <td>305.5</td>\n",
       "      <td>306.1</td>\n",
       "      <td>307.8</td>\n",
       "    </tr>\n",
       "    <tr>\n",
       "      <th>reanalysis_min_air_temp_k</th>\n",
       "      <td>294.5</td>\n",
       "      <td>291.9</td>\n",
       "      <td>292.4</td>\n",
       "      <td>291.9</td>\n",
       "      <td>292.3</td>\n",
       "    </tr>\n",
       "    <tr>\n",
       "      <th>reanalysis_precip_amt_kg_per_m2</th>\n",
       "      <td>45</td>\n",
       "      <td>207.1</td>\n",
       "      <td>50.6</td>\n",
       "      <td>62.33</td>\n",
       "      <td>36.9</td>\n",
       "    </tr>\n",
       "    <tr>\n",
       "      <th>reanalysis_relative_humidity_percent</th>\n",
       "      <td>88.7657</td>\n",
       "      <td>91.6</td>\n",
       "      <td>94.28</td>\n",
       "      <td>94.66</td>\n",
       "      <td>89.0829</td>\n",
       "    </tr>\n",
       "    <tr>\n",
       "      <th>reanalysis_sat_precip_amt_mm</th>\n",
       "      <td>55.3</td>\n",
       "      <td>86.47</td>\n",
       "      <td>58.94</td>\n",
       "      <td>59.67</td>\n",
       "      <td>63.22</td>\n",
       "    </tr>\n",
       "    <tr>\n",
       "      <th>reanalysis_specific_humidity_g_per_kg</th>\n",
       "      <td>18.4857</td>\n",
       "      <td>18.07</td>\n",
       "      <td>17.0086</td>\n",
       "      <td>16.8157</td>\n",
       "      <td>17.3557</td>\n",
       "    </tr>\n",
       "    <tr>\n",
       "      <th>reanalysis_tdtr_k</th>\n",
       "      <td>9.8</td>\n",
       "      <td>7.47143</td>\n",
       "      <td>7.5</td>\n",
       "      <td>7.87143</td>\n",
       "      <td>11.0143</td>\n",
       "    </tr>\n",
       "    <tr>\n",
       "      <th>station_avg_temp_c</th>\n",
       "      <td>28.6333</td>\n",
       "      <td>27.4333</td>\n",
       "      <td>24.4</td>\n",
       "      <td>25.4333</td>\n",
       "      <td>27.475</td>\n",
       "    </tr>\n",
       "    <tr>\n",
       "      <th>station_diur_temp_rng_c</th>\n",
       "      <td>11.9333</td>\n",
       "      <td>10.5</td>\n",
       "      <td>6.9</td>\n",
       "      <td>8.73333</td>\n",
       "      <td>9.9</td>\n",
       "    </tr>\n",
       "    <tr>\n",
       "      <th>station_max_temp_c</th>\n",
       "      <td>35.4</td>\n",
       "      <td>34.7</td>\n",
       "      <td>32.2</td>\n",
       "      <td>31.2</td>\n",
       "      <td>33.7</td>\n",
       "    </tr>\n",
       "    <tr>\n",
       "      <th>station_min_temp_c</th>\n",
       "      <td>22.4</td>\n",
       "      <td>21.7</td>\n",
       "      <td>19.2</td>\n",
       "      <td>21</td>\n",
       "      <td>22.2</td>\n",
       "    </tr>\n",
       "    <tr>\n",
       "      <th>station_precip_mm</th>\n",
       "      <td>27</td>\n",
       "      <td>36.6</td>\n",
       "      <td>7.4</td>\n",
       "      <td>16</td>\n",
       "      <td>20.4</td>\n",
       "    </tr>\n",
       "  </tbody>\n",
       "</table>\n",
       "</div>"
      ],
      "text/plain": [
       "                                             1451        1452        1453  \\\n",
       "city                                           iq          iq          iq   \n",
       "year                                         2010        2010        2010   \n",
       "weekofyear                                     21          22          23   \n",
       "week_start_date                        2010-05-28  2010-06-04  2010-06-11   \n",
       "ndvi_ne                                   0.34275    0.160157    0.247057   \n",
       "ndvi_nw                                    0.3189    0.160371    0.146057   \n",
       "ndvi_se                                  0.256343    0.136043    0.250357   \n",
       "ndvi_sw                                  0.292514    0.225657    0.233714   \n",
       "precipitation_amt_mm                         55.3       86.47       58.94   \n",
       "reanalysis_air_temp_k                     299.334      298.33     296.599   \n",
       "reanalysis_avg_temp_k                     300.771     299.393     297.593   \n",
       "reanalysis_dew_point_temp_k               296.826     296.453     295.501   \n",
       "reanalysis_max_air_temp_k                   309.7       308.5       305.5   \n",
       "reanalysis_min_air_temp_k                   294.5       291.9       292.4   \n",
       "reanalysis_precip_amt_kg_per_m2                45       207.1        50.6   \n",
       "reanalysis_relative_humidity_percent      88.7657        91.6       94.28   \n",
       "reanalysis_sat_precip_amt_mm                 55.3       86.47       58.94   \n",
       "reanalysis_specific_humidity_g_per_kg     18.4857       18.07     17.0086   \n",
       "reanalysis_tdtr_k                             9.8     7.47143         7.5   \n",
       "station_avg_temp_c                        28.6333     27.4333        24.4   \n",
       "station_diur_temp_rng_c                   11.9333        10.5         6.9   \n",
       "station_max_temp_c                           35.4        34.7        32.2   \n",
       "station_min_temp_c                           22.4        21.7        19.2   \n",
       "station_precip_mm                              27        36.6         7.4   \n",
       "\n",
       "                                             1454        1455  \n",
       "city                                           iq          iq  \n",
       "year                                         2010        2010  \n",
       "weekofyear                                     24          25  \n",
       "week_start_date                        2010-06-18  2010-06-25  \n",
       "ndvi_ne                                  0.333914    0.298186  \n",
       "ndvi_nw                                  0.245771    0.232971  \n",
       "ndvi_se                                  0.278886    0.274214  \n",
       "ndvi_sw                                  0.325486    0.315757  \n",
       "precipitation_amt_mm                        59.67       63.22  \n",
       "reanalysis_air_temp_k                     296.346     298.097  \n",
       "reanalysis_avg_temp_k                     297.521     299.836  \n",
       "reanalysis_dew_point_temp_k               295.324     295.807  \n",
       "reanalysis_max_air_temp_k                   306.1       307.8  \n",
       "reanalysis_min_air_temp_k                   291.9       292.3  \n",
       "reanalysis_precip_amt_kg_per_m2             62.33        36.9  \n",
       "reanalysis_relative_humidity_percent        94.66     89.0829  \n",
       "reanalysis_sat_precip_amt_mm                59.67       63.22  \n",
       "reanalysis_specific_humidity_g_per_kg     16.8157     17.3557  \n",
       "reanalysis_tdtr_k                         7.87143     11.0143  \n",
       "station_avg_temp_c                        25.4333      27.475  \n",
       "station_diur_temp_rng_c                   8.73333         9.9  \n",
       "station_max_temp_c                           31.2        33.7  \n",
       "station_min_temp_c                             21        22.2  \n",
       "station_precip_mm                              16        20.4  "
      ]
     },
     "metadata": {},
     "output_type": "display_data"
    }
   ],
   "source": [
    "display_all(train_features.tail().T)"
   ]
  },
  {
   "cell_type": "code",
   "execution_count": 14,
   "metadata": {},
   "outputs": [
    {
     "data": {
      "text/html": [
       "<div>\n",
       "<style scoped>\n",
       "    .dataframe tbody tr th:only-of-type {\n",
       "        vertical-align: middle;\n",
       "    }\n",
       "\n",
       "    .dataframe tbody tr th {\n",
       "        vertical-align: top;\n",
       "    }\n",
       "\n",
       "    .dataframe thead th {\n",
       "        text-align: right;\n",
       "    }\n",
       "</style>\n",
       "<table border=\"1\" class=\"dataframe\">\n",
       "  <thead>\n",
       "    <tr style=\"text-align: right;\">\n",
       "      <th></th>\n",
       "      <th>1451</th>\n",
       "      <th>1452</th>\n",
       "      <th>1453</th>\n",
       "      <th>1454</th>\n",
       "      <th>1455</th>\n",
       "    </tr>\n",
       "  </thead>\n",
       "  <tbody>\n",
       "    <tr>\n",
       "      <th>city</th>\n",
       "      <td>iq</td>\n",
       "      <td>iq</td>\n",
       "      <td>iq</td>\n",
       "      <td>iq</td>\n",
       "      <td>iq</td>\n",
       "    </tr>\n",
       "    <tr>\n",
       "      <th>year</th>\n",
       "      <td>2010</td>\n",
       "      <td>2010</td>\n",
       "      <td>2010</td>\n",
       "      <td>2010</td>\n",
       "      <td>2010</td>\n",
       "    </tr>\n",
       "    <tr>\n",
       "      <th>weekofyear</th>\n",
       "      <td>21</td>\n",
       "      <td>22</td>\n",
       "      <td>23</td>\n",
       "      <td>24</td>\n",
       "      <td>25</td>\n",
       "    </tr>\n",
       "    <tr>\n",
       "      <th>total_cases</th>\n",
       "      <td>5</td>\n",
       "      <td>8</td>\n",
       "      <td>1</td>\n",
       "      <td>1</td>\n",
       "      <td>4</td>\n",
       "    </tr>\n",
       "  </tbody>\n",
       "</table>\n",
       "</div>"
      ],
      "text/plain": [
       "             1451  1452  1453  1454  1455\n",
       "city           iq    iq    iq    iq    iq\n",
       "year         2010  2010  2010  2010  2010\n",
       "weekofyear     21    22    23    24    25\n",
       "total_cases     5     8     1     1     4"
      ]
     },
     "metadata": {},
     "output_type": "display_data"
    }
   ],
   "source": [
    "display_all(train_labels.tail().T)"
   ]
  },
  {
   "cell_type": "code",
   "execution_count": 15,
   "metadata": {},
   "outputs": [
    {
     "data": {
      "text/html": [
       "<div>\n",
       "<style scoped>\n",
       "    .dataframe tbody tr th:only-of-type {\n",
       "        vertical-align: middle;\n",
       "    }\n",
       "\n",
       "    .dataframe tbody tr th {\n",
       "        vertical-align: top;\n",
       "    }\n",
       "\n",
       "    .dataframe thead th {\n",
       "        text-align: right;\n",
       "    }\n",
       "</style>\n",
       "<table border=\"1\" class=\"dataframe\">\n",
       "  <thead>\n",
       "    <tr style=\"text-align: right;\">\n",
       "      <th></th>\n",
       "      <th>city</th>\n",
       "      <th>year</th>\n",
       "      <th>weekofyear</th>\n",
       "      <th>total_cases</th>\n",
       "    </tr>\n",
       "  </thead>\n",
       "  <tbody>\n",
       "    <tr>\n",
       "      <th>0</th>\n",
       "      <td>sj</td>\n",
       "      <td>1990</td>\n",
       "      <td>18</td>\n",
       "      <td>4</td>\n",
       "    </tr>\n",
       "    <tr>\n",
       "      <th>1</th>\n",
       "      <td>sj</td>\n",
       "      <td>1990</td>\n",
       "      <td>19</td>\n",
       "      <td>5</td>\n",
       "    </tr>\n",
       "    <tr>\n",
       "      <th>2</th>\n",
       "      <td>sj</td>\n",
       "      <td>1990</td>\n",
       "      <td>20</td>\n",
       "      <td>4</td>\n",
       "    </tr>\n",
       "    <tr>\n",
       "      <th>3</th>\n",
       "      <td>sj</td>\n",
       "      <td>1990</td>\n",
       "      <td>21</td>\n",
       "      <td>3</td>\n",
       "    </tr>\n",
       "    <tr>\n",
       "      <th>4</th>\n",
       "      <td>sj</td>\n",
       "      <td>1990</td>\n",
       "      <td>22</td>\n",
       "      <td>6</td>\n",
       "    </tr>\n",
       "  </tbody>\n",
       "</table>\n",
       "</div>"
      ],
      "text/plain": [
       "  city  year  weekofyear  total_cases\n",
       "0   sj  1990          18            4\n",
       "1   sj  1990          19            5\n",
       "2   sj  1990          20            4\n",
       "3   sj  1990          21            3\n",
       "4   sj  1990          22            6"
      ]
     },
     "execution_count": 15,
     "metadata": {},
     "output_type": "execute_result"
    }
   ],
   "source": [
    "train_labels.head()"
   ]
  },
  {
   "cell_type": "code",
   "execution_count": 37,
   "metadata": {},
   "outputs": [],
   "source": [
    "train = pd.concat([train_features, train_labels], axis = 1)"
   ]
  },
  {
   "cell_type": "code",
   "execution_count": 42,
   "metadata": {},
   "outputs": [
    {
     "data": {
      "text/plain": [
       "(1456, 25)"
      ]
     },
     "execution_count": 42,
     "metadata": {},
     "output_type": "execute_result"
    }
   ],
   "source": [
    "train.shape"
   ]
  },
  {
   "cell_type": "code",
   "execution_count": 40,
   "metadata": {},
   "outputs": [],
   "source": [
    "train = train.loc[:,~train.columns.duplicated()]"
   ]
  },
  {
   "cell_type": "code",
   "execution_count": 78,
   "metadata": {},
   "outputs": [
    {
     "data": {
      "text/html": [
       "<div>\n",
       "<style scoped>\n",
       "    .dataframe tbody tr th:only-of-type {\n",
       "        vertical-align: middle;\n",
       "    }\n",
       "\n",
       "    .dataframe tbody tr th {\n",
       "        vertical-align: top;\n",
       "    }\n",
       "\n",
       "    .dataframe thead th {\n",
       "        text-align: right;\n",
       "    }\n",
       "</style>\n",
       "<table border=\"1\" class=\"dataframe\">\n",
       "  <thead>\n",
       "    <tr style=\"text-align: right;\">\n",
       "      <th></th>\n",
       "      <th>0</th>\n",
       "      <th>1</th>\n",
       "      <th>2</th>\n",
       "      <th>3</th>\n",
       "      <th>4</th>\n",
       "    </tr>\n",
       "  </thead>\n",
       "  <tbody>\n",
       "    <tr>\n",
       "      <th>city</th>\n",
       "      <td>sj</td>\n",
       "      <td>sj</td>\n",
       "      <td>sj</td>\n",
       "      <td>sj</td>\n",
       "      <td>sj</td>\n",
       "    </tr>\n",
       "    <tr>\n",
       "      <th>year</th>\n",
       "      <td>1990</td>\n",
       "      <td>1990</td>\n",
       "      <td>1990</td>\n",
       "      <td>1990</td>\n",
       "      <td>1990</td>\n",
       "    </tr>\n",
       "    <tr>\n",
       "      <th>weekofyear</th>\n",
       "      <td>18</td>\n",
       "      <td>19</td>\n",
       "      <td>20</td>\n",
       "      <td>21</td>\n",
       "      <td>22</td>\n",
       "    </tr>\n",
       "    <tr>\n",
       "      <th>ndvi_ne</th>\n",
       "      <td>0.1226</td>\n",
       "      <td>0.1699</td>\n",
       "      <td>0.03225</td>\n",
       "      <td>0.128633</td>\n",
       "      <td>0.1962</td>\n",
       "    </tr>\n",
       "    <tr>\n",
       "      <th>ndvi_nw</th>\n",
       "      <td>0.103725</td>\n",
       "      <td>0.142175</td>\n",
       "      <td>0.172967</td>\n",
       "      <td>0.245067</td>\n",
       "      <td>0.2622</td>\n",
       "    </tr>\n",
       "    <tr>\n",
       "      <th>ndvi_se</th>\n",
       "      <td>0.198483</td>\n",
       "      <td>0.162357</td>\n",
       "      <td>0.1572</td>\n",
       "      <td>0.227557</td>\n",
       "      <td>0.2512</td>\n",
       "    </tr>\n",
       "    <tr>\n",
       "      <th>ndvi_sw</th>\n",
       "      <td>0.177617</td>\n",
       "      <td>0.155486</td>\n",
       "      <td>0.170843</td>\n",
       "      <td>0.235886</td>\n",
       "      <td>0.24734</td>\n",
       "    </tr>\n",
       "    <tr>\n",
       "      <th>precipitation_amt_mm</th>\n",
       "      <td>12.42</td>\n",
       "      <td>22.82</td>\n",
       "      <td>34.54</td>\n",
       "      <td>15.36</td>\n",
       "      <td>7.52</td>\n",
       "    </tr>\n",
       "    <tr>\n",
       "      <th>reanalysis_air_temp_k</th>\n",
       "      <td>297.573</td>\n",
       "      <td>298.211</td>\n",
       "      <td>298.781</td>\n",
       "      <td>298.987</td>\n",
       "      <td>299.519</td>\n",
       "    </tr>\n",
       "    <tr>\n",
       "      <th>reanalysis_avg_temp_k</th>\n",
       "      <td>297.743</td>\n",
       "      <td>298.443</td>\n",
       "      <td>298.879</td>\n",
       "      <td>299.229</td>\n",
       "      <td>299.664</td>\n",
       "    </tr>\n",
       "    <tr>\n",
       "      <th>reanalysis_dew_point_temp_k</th>\n",
       "      <td>292.414</td>\n",
       "      <td>293.951</td>\n",
       "      <td>295.434</td>\n",
       "      <td>295.31</td>\n",
       "      <td>295.821</td>\n",
       "    </tr>\n",
       "    <tr>\n",
       "      <th>reanalysis_max_air_temp_k</th>\n",
       "      <td>299.8</td>\n",
       "      <td>300.9</td>\n",
       "      <td>300.5</td>\n",
       "      <td>301.4</td>\n",
       "      <td>301.9</td>\n",
       "    </tr>\n",
       "    <tr>\n",
       "      <th>reanalysis_min_air_temp_k</th>\n",
       "      <td>295.9</td>\n",
       "      <td>296.4</td>\n",
       "      <td>297.3</td>\n",
       "      <td>297</td>\n",
       "      <td>297.5</td>\n",
       "    </tr>\n",
       "    <tr>\n",
       "      <th>reanalysis_precip_amt_kg_per_m2</th>\n",
       "      <td>32</td>\n",
       "      <td>17.94</td>\n",
       "      <td>26.1</td>\n",
       "      <td>13.9</td>\n",
       "      <td>12.2</td>\n",
       "    </tr>\n",
       "    <tr>\n",
       "      <th>reanalysis_relative_humidity_percent</th>\n",
       "      <td>73.3657</td>\n",
       "      <td>77.3686</td>\n",
       "      <td>82.0529</td>\n",
       "      <td>80.3371</td>\n",
       "      <td>80.46</td>\n",
       "    </tr>\n",
       "    <tr>\n",
       "      <th>reanalysis_sat_precip_amt_mm</th>\n",
       "      <td>12.42</td>\n",
       "      <td>22.82</td>\n",
       "      <td>34.54</td>\n",
       "      <td>15.36</td>\n",
       "      <td>7.52</td>\n",
       "    </tr>\n",
       "    <tr>\n",
       "      <th>reanalysis_specific_humidity_g_per_kg</th>\n",
       "      <td>14.0129</td>\n",
       "      <td>15.3729</td>\n",
       "      <td>16.8486</td>\n",
       "      <td>16.6729</td>\n",
       "      <td>17.21</td>\n",
       "    </tr>\n",
       "    <tr>\n",
       "      <th>reanalysis_tdtr_k</th>\n",
       "      <td>2.62857</td>\n",
       "      <td>2.37143</td>\n",
       "      <td>2.3</td>\n",
       "      <td>2.42857</td>\n",
       "      <td>3.01429</td>\n",
       "    </tr>\n",
       "    <tr>\n",
       "      <th>station_avg_temp_c</th>\n",
       "      <td>25.4429</td>\n",
       "      <td>26.7143</td>\n",
       "      <td>26.7143</td>\n",
       "      <td>27.4714</td>\n",
       "      <td>28.9429</td>\n",
       "    </tr>\n",
       "    <tr>\n",
       "      <th>station_diur_temp_rng_c</th>\n",
       "      <td>6.9</td>\n",
       "      <td>6.37143</td>\n",
       "      <td>6.48571</td>\n",
       "      <td>6.77143</td>\n",
       "      <td>9.37143</td>\n",
       "    </tr>\n",
       "    <tr>\n",
       "      <th>station_max_temp_c</th>\n",
       "      <td>29.4</td>\n",
       "      <td>31.7</td>\n",
       "      <td>32.2</td>\n",
       "      <td>33.3</td>\n",
       "      <td>35</td>\n",
       "    </tr>\n",
       "    <tr>\n",
       "      <th>station_min_temp_c</th>\n",
       "      <td>20</td>\n",
       "      <td>22.2</td>\n",
       "      <td>22.8</td>\n",
       "      <td>23.3</td>\n",
       "      <td>23.9</td>\n",
       "    </tr>\n",
       "    <tr>\n",
       "      <th>station_precip_mm</th>\n",
       "      <td>16</td>\n",
       "      <td>8.6</td>\n",
       "      <td>41.4</td>\n",
       "      <td>4</td>\n",
       "      <td>5.8</td>\n",
       "    </tr>\n",
       "    <tr>\n",
       "      <th>total_cases</th>\n",
       "      <td>4</td>\n",
       "      <td>5</td>\n",
       "      <td>4</td>\n",
       "      <td>3</td>\n",
       "      <td>6</td>\n",
       "    </tr>\n",
       "    <tr>\n",
       "      <th>week_start_Month</th>\n",
       "      <td>4</td>\n",
       "      <td>5</td>\n",
       "      <td>5</td>\n",
       "      <td>5</td>\n",
       "      <td>5</td>\n",
       "    </tr>\n",
       "    <tr>\n",
       "      <th>week_start_Day</th>\n",
       "      <td>30</td>\n",
       "      <td>7</td>\n",
       "      <td>14</td>\n",
       "      <td>21</td>\n",
       "      <td>28</td>\n",
       "    </tr>\n",
       "    <tr>\n",
       "      <th>week_start_Dayofweek</th>\n",
       "      <td>0</td>\n",
       "      <td>0</td>\n",
       "      <td>0</td>\n",
       "      <td>0</td>\n",
       "      <td>0</td>\n",
       "    </tr>\n",
       "    <tr>\n",
       "      <th>week_start_Dayofyear</th>\n",
       "      <td>120</td>\n",
       "      <td>127</td>\n",
       "      <td>134</td>\n",
       "      <td>141</td>\n",
       "      <td>148</td>\n",
       "    </tr>\n",
       "    <tr>\n",
       "      <th>week_start_Is_month_end</th>\n",
       "      <td>True</td>\n",
       "      <td>False</td>\n",
       "      <td>False</td>\n",
       "      <td>False</td>\n",
       "      <td>False</td>\n",
       "    </tr>\n",
       "    <tr>\n",
       "      <th>week_start_Is_month_start</th>\n",
       "      <td>False</td>\n",
       "      <td>False</td>\n",
       "      <td>False</td>\n",
       "      <td>False</td>\n",
       "      <td>False</td>\n",
       "    </tr>\n",
       "    <tr>\n",
       "      <th>week_start_Is_quarter_end</th>\n",
       "      <td>False</td>\n",
       "      <td>False</td>\n",
       "      <td>False</td>\n",
       "      <td>False</td>\n",
       "      <td>False</td>\n",
       "    </tr>\n",
       "    <tr>\n",
       "      <th>week_start_Is_quarter_start</th>\n",
       "      <td>False</td>\n",
       "      <td>False</td>\n",
       "      <td>False</td>\n",
       "      <td>False</td>\n",
       "      <td>False</td>\n",
       "    </tr>\n",
       "    <tr>\n",
       "      <th>week_start_Is_year_end</th>\n",
       "      <td>False</td>\n",
       "      <td>False</td>\n",
       "      <td>False</td>\n",
       "      <td>False</td>\n",
       "      <td>False</td>\n",
       "    </tr>\n",
       "    <tr>\n",
       "      <th>week_start_Is_year_start</th>\n",
       "      <td>False</td>\n",
       "      <td>False</td>\n",
       "      <td>False</td>\n",
       "      <td>False</td>\n",
       "      <td>False</td>\n",
       "    </tr>\n",
       "    <tr>\n",
       "      <th>week_start_Elapsed</th>\n",
       "      <td>641433600</td>\n",
       "      <td>642038400</td>\n",
       "      <td>642643200</td>\n",
       "      <td>643248000</td>\n",
       "      <td>643852800</td>\n",
       "    </tr>\n",
       "  </tbody>\n",
       "</table>\n",
       "</div>"
      ],
      "text/plain": [
       "                                               0          1          2  \\\n",
       "city                                          sj         sj         sj   \n",
       "year                                        1990       1990       1990   \n",
       "weekofyear                                    18         19         20   \n",
       "ndvi_ne                                   0.1226     0.1699    0.03225   \n",
       "ndvi_nw                                 0.103725   0.142175   0.172967   \n",
       "ndvi_se                                 0.198483   0.162357     0.1572   \n",
       "ndvi_sw                                 0.177617   0.155486   0.170843   \n",
       "precipitation_amt_mm                       12.42      22.82      34.54   \n",
       "reanalysis_air_temp_k                    297.573    298.211    298.781   \n",
       "reanalysis_avg_temp_k                    297.743    298.443    298.879   \n",
       "reanalysis_dew_point_temp_k              292.414    293.951    295.434   \n",
       "reanalysis_max_air_temp_k                  299.8      300.9      300.5   \n",
       "reanalysis_min_air_temp_k                  295.9      296.4      297.3   \n",
       "reanalysis_precip_amt_kg_per_m2               32      17.94       26.1   \n",
       "reanalysis_relative_humidity_percent     73.3657    77.3686    82.0529   \n",
       "reanalysis_sat_precip_amt_mm               12.42      22.82      34.54   \n",
       "reanalysis_specific_humidity_g_per_kg    14.0129    15.3729    16.8486   \n",
       "reanalysis_tdtr_k                        2.62857    2.37143        2.3   \n",
       "station_avg_temp_c                       25.4429    26.7143    26.7143   \n",
       "station_diur_temp_rng_c                      6.9    6.37143    6.48571   \n",
       "station_max_temp_c                          29.4       31.7       32.2   \n",
       "station_min_temp_c                            20       22.2       22.8   \n",
       "station_precip_mm                             16        8.6       41.4   \n",
       "total_cases                                    4          5          4   \n",
       "week_start_Month                               4          5          5   \n",
       "week_start_Day                                30          7         14   \n",
       "week_start_Dayofweek                           0          0          0   \n",
       "week_start_Dayofyear                         120        127        134   \n",
       "week_start_Is_month_end                     True      False      False   \n",
       "week_start_Is_month_start                  False      False      False   \n",
       "week_start_Is_quarter_end                  False      False      False   \n",
       "week_start_Is_quarter_start                False      False      False   \n",
       "week_start_Is_year_end                     False      False      False   \n",
       "week_start_Is_year_start                   False      False      False   \n",
       "week_start_Elapsed                     641433600  642038400  642643200   \n",
       "\n",
       "                                               3          4  \n",
       "city                                          sj         sj  \n",
       "year                                        1990       1990  \n",
       "weekofyear                                    21         22  \n",
       "ndvi_ne                                 0.128633     0.1962  \n",
       "ndvi_nw                                 0.245067     0.2622  \n",
       "ndvi_se                                 0.227557     0.2512  \n",
       "ndvi_sw                                 0.235886    0.24734  \n",
       "precipitation_amt_mm                       15.36       7.52  \n",
       "reanalysis_air_temp_k                    298.987    299.519  \n",
       "reanalysis_avg_temp_k                    299.229    299.664  \n",
       "reanalysis_dew_point_temp_k               295.31    295.821  \n",
       "reanalysis_max_air_temp_k                  301.4      301.9  \n",
       "reanalysis_min_air_temp_k                    297      297.5  \n",
       "reanalysis_precip_amt_kg_per_m2             13.9       12.2  \n",
       "reanalysis_relative_humidity_percent     80.3371      80.46  \n",
       "reanalysis_sat_precip_amt_mm               15.36       7.52  \n",
       "reanalysis_specific_humidity_g_per_kg    16.6729      17.21  \n",
       "reanalysis_tdtr_k                        2.42857    3.01429  \n",
       "station_avg_temp_c                       27.4714    28.9429  \n",
       "station_diur_temp_rng_c                  6.77143    9.37143  \n",
       "station_max_temp_c                          33.3         35  \n",
       "station_min_temp_c                          23.3       23.9  \n",
       "station_precip_mm                              4        5.8  \n",
       "total_cases                                    3          6  \n",
       "week_start_Month                               5          5  \n",
       "week_start_Day                                21         28  \n",
       "week_start_Dayofweek                           0          0  \n",
       "week_start_Dayofyear                         141        148  \n",
       "week_start_Is_month_end                    False      False  \n",
       "week_start_Is_month_start                  False      False  \n",
       "week_start_Is_quarter_end                  False      False  \n",
       "week_start_Is_quarter_start                False      False  \n",
       "week_start_Is_year_end                     False      False  \n",
       "week_start_Is_year_start                   False      False  \n",
       "week_start_Elapsed                     643248000  643852800  "
      ]
     },
     "metadata": {},
     "output_type": "display_data"
    }
   ],
   "source": [
    "display_all(train.head().T)"
   ]
  },
  {
   "cell_type": "markdown",
   "metadata": {},
   "source": [
    "### Removing Missing Values"
   ]
  },
  {
   "cell_type": "code",
   "execution_count": 43,
   "metadata": {},
   "outputs": [
    {
     "data": {
      "text/plain": [
       "city                                     0.000000\n",
       "ndvi_ne                                  0.133242\n",
       "ndvi_nw                                  0.035714\n",
       "ndvi_se                                  0.015110\n",
       "ndvi_sw                                  0.015110\n",
       "precipitation_amt_mm                     0.008929\n",
       "reanalysis_air_temp_k                    0.006868\n",
       "reanalysis_avg_temp_k                    0.006868\n",
       "reanalysis_dew_point_temp_k              0.006868\n",
       "reanalysis_max_air_temp_k                0.006868\n",
       "reanalysis_min_air_temp_k                0.006868\n",
       "reanalysis_precip_amt_kg_per_m2          0.006868\n",
       "reanalysis_relative_humidity_percent     0.006868\n",
       "reanalysis_sat_precip_amt_mm             0.008929\n",
       "reanalysis_specific_humidity_g_per_kg    0.006868\n",
       "reanalysis_tdtr_k                        0.006868\n",
       "station_avg_temp_c                       0.029533\n",
       "station_diur_temp_rng_c                  0.029533\n",
       "station_max_temp_c                       0.013736\n",
       "station_min_temp_c                       0.009615\n",
       "station_precip_mm                        0.015110\n",
       "total_cases                              0.000000\n",
       "week_start_date                          0.000000\n",
       "weekofyear                               0.000000\n",
       "year                                     0.000000\n",
       "dtype: float64"
      ]
     },
     "metadata": {},
     "output_type": "display_data"
    }
   ],
   "source": [
    "display_all(train.isnull().sum().sort_index()/len(train))"
   ]
  },
  {
   "cell_type": "code",
   "execution_count": 45,
   "metadata": {},
   "outputs": [
    {
     "data": {
      "text/plain": [
       "city                                      object\n",
       "year                                       int64\n",
       "weekofyear                                 int64\n",
       "week_start_date                           object\n",
       "ndvi_ne                                  float64\n",
       "ndvi_nw                                  float64\n",
       "ndvi_se                                  float64\n",
       "ndvi_sw                                  float64\n",
       "precipitation_amt_mm                     float64\n",
       "reanalysis_air_temp_k                    float64\n",
       "reanalysis_avg_temp_k                    float64\n",
       "reanalysis_dew_point_temp_k              float64\n",
       "reanalysis_max_air_temp_k                float64\n",
       "reanalysis_min_air_temp_k                float64\n",
       "reanalysis_precip_amt_kg_per_m2          float64\n",
       "reanalysis_relative_humidity_percent     float64\n",
       "reanalysis_sat_precip_amt_mm             float64\n",
       "reanalysis_specific_humidity_g_per_kg    float64\n",
       "reanalysis_tdtr_k                        float64\n",
       "station_avg_temp_c                       float64\n",
       "station_diur_temp_rng_c                  float64\n",
       "station_max_temp_c                       float64\n",
       "station_min_temp_c                       float64\n",
       "station_precip_mm                        float64\n",
       "total_cases                                int64\n",
       "dtype: object"
      ]
     },
     "execution_count": 45,
     "metadata": {},
     "output_type": "execute_result"
    }
   ],
   "source": [
    "train.dtypes"
   ]
  },
  {
   "cell_type": "code",
   "execution_count": 46,
   "metadata": {},
   "outputs": [],
   "source": [
    "add_datepart(train, 'week_start_date')"
   ]
  },
  {
   "cell_type": "code",
   "execution_count": 47,
   "metadata": {},
   "outputs": [
    {
     "data": {
      "text/plain": [
       "city                                      object\n",
       "year                                       int64\n",
       "weekofyear                                 int64\n",
       "ndvi_ne                                  float64\n",
       "ndvi_nw                                  float64\n",
       "ndvi_se                                  float64\n",
       "ndvi_sw                                  float64\n",
       "precipitation_amt_mm                     float64\n",
       "reanalysis_air_temp_k                    float64\n",
       "reanalysis_avg_temp_k                    float64\n",
       "reanalysis_dew_point_temp_k              float64\n",
       "reanalysis_max_air_temp_k                float64\n",
       "reanalysis_min_air_temp_k                float64\n",
       "reanalysis_precip_amt_kg_per_m2          float64\n",
       "reanalysis_relative_humidity_percent     float64\n",
       "reanalysis_sat_precip_amt_mm             float64\n",
       "reanalysis_specific_humidity_g_per_kg    float64\n",
       "reanalysis_tdtr_k                        float64\n",
       "station_avg_temp_c                       float64\n",
       "station_diur_temp_rng_c                  float64\n",
       "station_max_temp_c                       float64\n",
       "station_min_temp_c                       float64\n",
       "station_precip_mm                        float64\n",
       "total_cases                                int64\n",
       "week_start_Year                            int64\n",
       "week_start_Month                           int64\n",
       "week_start_Week                            int64\n",
       "week_start_Day                             int64\n",
       "week_start_Dayofweek                       int64\n",
       "week_start_Dayofyear                       int64\n",
       "week_start_Is_month_end                     bool\n",
       "week_start_Is_month_start                   bool\n",
       "week_start_Is_quarter_end                   bool\n",
       "week_start_Is_quarter_start                 bool\n",
       "week_start_Is_year_end                      bool\n",
       "week_start_Is_year_start                    bool\n",
       "week_start_Elapsed                         int64\n",
       "dtype: object"
      ]
     },
     "execution_count": 47,
     "metadata": {},
     "output_type": "execute_result"
    }
   ],
   "source": [
    "train.dtypes"
   ]
  },
  {
   "cell_type": "code",
   "execution_count": 71,
   "metadata": {},
   "outputs": [
    {
     "data": {
      "text/html": [
       "<div>\n",
       "<style scoped>\n",
       "    .dataframe tbody tr th:only-of-type {\n",
       "        vertical-align: middle;\n",
       "    }\n",
       "\n",
       "    .dataframe tbody tr th {\n",
       "        vertical-align: top;\n",
       "    }\n",
       "\n",
       "    .dataframe thead th {\n",
       "        text-align: right;\n",
       "    }\n",
       "</style>\n",
       "<table border=\"1\" class=\"dataframe\">\n",
       "  <thead>\n",
       "    <tr style=\"text-align: right;\">\n",
       "      <th></th>\n",
       "      <th>1451</th>\n",
       "      <th>1452</th>\n",
       "      <th>1453</th>\n",
       "      <th>1454</th>\n",
       "      <th>1455</th>\n",
       "    </tr>\n",
       "  </thead>\n",
       "  <tbody>\n",
       "    <tr>\n",
       "      <th>city</th>\n",
       "      <td>iq</td>\n",
       "      <td>iq</td>\n",
       "      <td>iq</td>\n",
       "      <td>iq</td>\n",
       "      <td>iq</td>\n",
       "    </tr>\n",
       "    <tr>\n",
       "      <th>year</th>\n",
       "      <td>2010</td>\n",
       "      <td>2010</td>\n",
       "      <td>2010</td>\n",
       "      <td>2010</td>\n",
       "      <td>2010</td>\n",
       "    </tr>\n",
       "    <tr>\n",
       "      <th>weekofyear</th>\n",
       "      <td>21</td>\n",
       "      <td>22</td>\n",
       "      <td>23</td>\n",
       "      <td>24</td>\n",
       "      <td>25</td>\n",
       "    </tr>\n",
       "    <tr>\n",
       "      <th>ndvi_ne</th>\n",
       "      <td>0.34275</td>\n",
       "      <td>0.160157</td>\n",
       "      <td>0.247057</td>\n",
       "      <td>0.333914</td>\n",
       "      <td>0.298186</td>\n",
       "    </tr>\n",
       "    <tr>\n",
       "      <th>ndvi_nw</th>\n",
       "      <td>0.3189</td>\n",
       "      <td>0.160371</td>\n",
       "      <td>0.146057</td>\n",
       "      <td>0.245771</td>\n",
       "      <td>0.232971</td>\n",
       "    </tr>\n",
       "    <tr>\n",
       "      <th>ndvi_se</th>\n",
       "      <td>0.256343</td>\n",
       "      <td>0.136043</td>\n",
       "      <td>0.250357</td>\n",
       "      <td>0.278886</td>\n",
       "      <td>0.274214</td>\n",
       "    </tr>\n",
       "    <tr>\n",
       "      <th>ndvi_sw</th>\n",
       "      <td>0.292514</td>\n",
       "      <td>0.225657</td>\n",
       "      <td>0.233714</td>\n",
       "      <td>0.325486</td>\n",
       "      <td>0.315757</td>\n",
       "    </tr>\n",
       "    <tr>\n",
       "      <th>precipitation_amt_mm</th>\n",
       "      <td>55.3</td>\n",
       "      <td>86.47</td>\n",
       "      <td>58.94</td>\n",
       "      <td>59.67</td>\n",
       "      <td>63.22</td>\n",
       "    </tr>\n",
       "    <tr>\n",
       "      <th>reanalysis_air_temp_k</th>\n",
       "      <td>299.334</td>\n",
       "      <td>298.33</td>\n",
       "      <td>296.599</td>\n",
       "      <td>296.346</td>\n",
       "      <td>298.097</td>\n",
       "    </tr>\n",
       "    <tr>\n",
       "      <th>reanalysis_avg_temp_k</th>\n",
       "      <td>300.771</td>\n",
       "      <td>299.393</td>\n",
       "      <td>297.593</td>\n",
       "      <td>297.521</td>\n",
       "      <td>299.836</td>\n",
       "    </tr>\n",
       "    <tr>\n",
       "      <th>reanalysis_dew_point_temp_k</th>\n",
       "      <td>296.826</td>\n",
       "      <td>296.453</td>\n",
       "      <td>295.501</td>\n",
       "      <td>295.324</td>\n",
       "      <td>295.807</td>\n",
       "    </tr>\n",
       "    <tr>\n",
       "      <th>reanalysis_max_air_temp_k</th>\n",
       "      <td>309.7</td>\n",
       "      <td>308.5</td>\n",
       "      <td>305.5</td>\n",
       "      <td>306.1</td>\n",
       "      <td>307.8</td>\n",
       "    </tr>\n",
       "    <tr>\n",
       "      <th>reanalysis_min_air_temp_k</th>\n",
       "      <td>294.5</td>\n",
       "      <td>291.9</td>\n",
       "      <td>292.4</td>\n",
       "      <td>291.9</td>\n",
       "      <td>292.3</td>\n",
       "    </tr>\n",
       "    <tr>\n",
       "      <th>reanalysis_precip_amt_kg_per_m2</th>\n",
       "      <td>45</td>\n",
       "      <td>207.1</td>\n",
       "      <td>50.6</td>\n",
       "      <td>62.33</td>\n",
       "      <td>36.9</td>\n",
       "    </tr>\n",
       "    <tr>\n",
       "      <th>reanalysis_relative_humidity_percent</th>\n",
       "      <td>88.7657</td>\n",
       "      <td>91.6</td>\n",
       "      <td>94.28</td>\n",
       "      <td>94.66</td>\n",
       "      <td>89.0829</td>\n",
       "    </tr>\n",
       "    <tr>\n",
       "      <th>reanalysis_sat_precip_amt_mm</th>\n",
       "      <td>55.3</td>\n",
       "      <td>86.47</td>\n",
       "      <td>58.94</td>\n",
       "      <td>59.67</td>\n",
       "      <td>63.22</td>\n",
       "    </tr>\n",
       "    <tr>\n",
       "      <th>reanalysis_specific_humidity_g_per_kg</th>\n",
       "      <td>18.4857</td>\n",
       "      <td>18.07</td>\n",
       "      <td>17.0086</td>\n",
       "      <td>16.8157</td>\n",
       "      <td>17.3557</td>\n",
       "    </tr>\n",
       "    <tr>\n",
       "      <th>reanalysis_tdtr_k</th>\n",
       "      <td>9.8</td>\n",
       "      <td>7.47143</td>\n",
       "      <td>7.5</td>\n",
       "      <td>7.87143</td>\n",
       "      <td>11.0143</td>\n",
       "    </tr>\n",
       "    <tr>\n",
       "      <th>station_avg_temp_c</th>\n",
       "      <td>28.6333</td>\n",
       "      <td>27.4333</td>\n",
       "      <td>24.4</td>\n",
       "      <td>25.4333</td>\n",
       "      <td>27.475</td>\n",
       "    </tr>\n",
       "    <tr>\n",
       "      <th>station_diur_temp_rng_c</th>\n",
       "      <td>11.9333</td>\n",
       "      <td>10.5</td>\n",
       "      <td>6.9</td>\n",
       "      <td>8.73333</td>\n",
       "      <td>9.9</td>\n",
       "    </tr>\n",
       "    <tr>\n",
       "      <th>station_max_temp_c</th>\n",
       "      <td>35.4</td>\n",
       "      <td>34.7</td>\n",
       "      <td>32.2</td>\n",
       "      <td>31.2</td>\n",
       "      <td>33.7</td>\n",
       "    </tr>\n",
       "    <tr>\n",
       "      <th>station_min_temp_c</th>\n",
       "      <td>22.4</td>\n",
       "      <td>21.7</td>\n",
       "      <td>19.2</td>\n",
       "      <td>21</td>\n",
       "      <td>22.2</td>\n",
       "    </tr>\n",
       "    <tr>\n",
       "      <th>station_precip_mm</th>\n",
       "      <td>27</td>\n",
       "      <td>36.6</td>\n",
       "      <td>7.4</td>\n",
       "      <td>16</td>\n",
       "      <td>20.4</td>\n",
       "    </tr>\n",
       "    <tr>\n",
       "      <th>total_cases</th>\n",
       "      <td>5</td>\n",
       "      <td>8</td>\n",
       "      <td>1</td>\n",
       "      <td>1</td>\n",
       "      <td>4</td>\n",
       "    </tr>\n",
       "    <tr>\n",
       "      <th>week_start_Month</th>\n",
       "      <td>5</td>\n",
       "      <td>6</td>\n",
       "      <td>6</td>\n",
       "      <td>6</td>\n",
       "      <td>6</td>\n",
       "    </tr>\n",
       "    <tr>\n",
       "      <th>week_start_Day</th>\n",
       "      <td>28</td>\n",
       "      <td>4</td>\n",
       "      <td>11</td>\n",
       "      <td>18</td>\n",
       "      <td>25</td>\n",
       "    </tr>\n",
       "    <tr>\n",
       "      <th>week_start_Dayofweek</th>\n",
       "      <td>4</td>\n",
       "      <td>4</td>\n",
       "      <td>4</td>\n",
       "      <td>4</td>\n",
       "      <td>4</td>\n",
       "    </tr>\n",
       "    <tr>\n",
       "      <th>week_start_Dayofyear</th>\n",
       "      <td>148</td>\n",
       "      <td>155</td>\n",
       "      <td>162</td>\n",
       "      <td>169</td>\n",
       "      <td>176</td>\n",
       "    </tr>\n",
       "    <tr>\n",
       "      <th>week_start_Is_month_end</th>\n",
       "      <td>False</td>\n",
       "      <td>False</td>\n",
       "      <td>False</td>\n",
       "      <td>False</td>\n",
       "      <td>False</td>\n",
       "    </tr>\n",
       "    <tr>\n",
       "      <th>week_start_Is_month_start</th>\n",
       "      <td>False</td>\n",
       "      <td>False</td>\n",
       "      <td>False</td>\n",
       "      <td>False</td>\n",
       "      <td>False</td>\n",
       "    </tr>\n",
       "    <tr>\n",
       "      <th>week_start_Is_quarter_end</th>\n",
       "      <td>False</td>\n",
       "      <td>False</td>\n",
       "      <td>False</td>\n",
       "      <td>False</td>\n",
       "      <td>False</td>\n",
       "    </tr>\n",
       "    <tr>\n",
       "      <th>week_start_Is_quarter_start</th>\n",
       "      <td>False</td>\n",
       "      <td>False</td>\n",
       "      <td>False</td>\n",
       "      <td>False</td>\n",
       "      <td>False</td>\n",
       "    </tr>\n",
       "    <tr>\n",
       "      <th>week_start_Is_year_end</th>\n",
       "      <td>False</td>\n",
       "      <td>False</td>\n",
       "      <td>False</td>\n",
       "      <td>False</td>\n",
       "      <td>False</td>\n",
       "    </tr>\n",
       "    <tr>\n",
       "      <th>week_start_Is_year_start</th>\n",
       "      <td>False</td>\n",
       "      <td>False</td>\n",
       "      <td>False</td>\n",
       "      <td>False</td>\n",
       "      <td>False</td>\n",
       "    </tr>\n",
       "    <tr>\n",
       "      <th>week_start_Elapsed</th>\n",
       "      <td>1275004800</td>\n",
       "      <td>1275609600</td>\n",
       "      <td>1276214400</td>\n",
       "      <td>1276819200</td>\n",
       "      <td>1277424000</td>\n",
       "    </tr>\n",
       "  </tbody>\n",
       "</table>\n",
       "</div>"
      ],
      "text/plain": [
       "                                             1451        1452        1453  \\\n",
       "city                                           iq          iq          iq   \n",
       "year                                         2010        2010        2010   \n",
       "weekofyear                                     21          22          23   \n",
       "ndvi_ne                                   0.34275    0.160157    0.247057   \n",
       "ndvi_nw                                    0.3189    0.160371    0.146057   \n",
       "ndvi_se                                  0.256343    0.136043    0.250357   \n",
       "ndvi_sw                                  0.292514    0.225657    0.233714   \n",
       "precipitation_amt_mm                         55.3       86.47       58.94   \n",
       "reanalysis_air_temp_k                     299.334      298.33     296.599   \n",
       "reanalysis_avg_temp_k                     300.771     299.393     297.593   \n",
       "reanalysis_dew_point_temp_k               296.826     296.453     295.501   \n",
       "reanalysis_max_air_temp_k                   309.7       308.5       305.5   \n",
       "reanalysis_min_air_temp_k                   294.5       291.9       292.4   \n",
       "reanalysis_precip_amt_kg_per_m2                45       207.1        50.6   \n",
       "reanalysis_relative_humidity_percent      88.7657        91.6       94.28   \n",
       "reanalysis_sat_precip_amt_mm                 55.3       86.47       58.94   \n",
       "reanalysis_specific_humidity_g_per_kg     18.4857       18.07     17.0086   \n",
       "reanalysis_tdtr_k                             9.8     7.47143         7.5   \n",
       "station_avg_temp_c                        28.6333     27.4333        24.4   \n",
       "station_diur_temp_rng_c                   11.9333        10.5         6.9   \n",
       "station_max_temp_c                           35.4        34.7        32.2   \n",
       "station_min_temp_c                           22.4        21.7        19.2   \n",
       "station_precip_mm                              27        36.6         7.4   \n",
       "total_cases                                     5           8           1   \n",
       "week_start_Month                                5           6           6   \n",
       "week_start_Day                                 28           4          11   \n",
       "week_start_Dayofweek                            4           4           4   \n",
       "week_start_Dayofyear                          148         155         162   \n",
       "week_start_Is_month_end                     False       False       False   \n",
       "week_start_Is_month_start                   False       False       False   \n",
       "week_start_Is_quarter_end                   False       False       False   \n",
       "week_start_Is_quarter_start                 False       False       False   \n",
       "week_start_Is_year_end                      False       False       False   \n",
       "week_start_Is_year_start                    False       False       False   \n",
       "week_start_Elapsed                     1275004800  1275609600  1276214400   \n",
       "\n",
       "                                             1454        1455  \n",
       "city                                           iq          iq  \n",
       "year                                         2010        2010  \n",
       "weekofyear                                     24          25  \n",
       "ndvi_ne                                  0.333914    0.298186  \n",
       "ndvi_nw                                  0.245771    0.232971  \n",
       "ndvi_se                                  0.278886    0.274214  \n",
       "ndvi_sw                                  0.325486    0.315757  \n",
       "precipitation_amt_mm                        59.67       63.22  \n",
       "reanalysis_air_temp_k                     296.346     298.097  \n",
       "reanalysis_avg_temp_k                     297.521     299.836  \n",
       "reanalysis_dew_point_temp_k               295.324     295.807  \n",
       "reanalysis_max_air_temp_k                   306.1       307.8  \n",
       "reanalysis_min_air_temp_k                   291.9       292.3  \n",
       "reanalysis_precip_amt_kg_per_m2             62.33        36.9  \n",
       "reanalysis_relative_humidity_percent        94.66     89.0829  \n",
       "reanalysis_sat_precip_amt_mm                59.67       63.22  \n",
       "reanalysis_specific_humidity_g_per_kg     16.8157     17.3557  \n",
       "reanalysis_tdtr_k                         7.87143     11.0143  \n",
       "station_avg_temp_c                        25.4333      27.475  \n",
       "station_diur_temp_rng_c                   8.73333         9.9  \n",
       "station_max_temp_c                           31.2        33.7  \n",
       "station_min_temp_c                             21        22.2  \n",
       "station_precip_mm                              16        20.4  \n",
       "total_cases                                     1           4  \n",
       "week_start_Month                                6           6  \n",
       "week_start_Day                                 18          25  \n",
       "week_start_Dayofweek                            4           4  \n",
       "week_start_Dayofyear                          169         176  \n",
       "week_start_Is_month_end                     False       False  \n",
       "week_start_Is_month_start                   False       False  \n",
       "week_start_Is_quarter_end                   False       False  \n",
       "week_start_Is_quarter_start                 False       False  \n",
       "week_start_Is_year_end                      False       False  \n",
       "week_start_Is_year_start                    False       False  \n",
       "week_start_Elapsed                     1276819200  1277424000  "
      ]
     },
     "metadata": {},
     "output_type": "display_data"
    }
   ],
   "source": [
    "display_all(train.tail().T)"
   ]
  },
  {
   "cell_type": "markdown",
   "metadata": {},
   "source": [
    "This is an illegal match, so we remove it. "
   ]
  },
  {
   "cell_type": "code",
   "execution_count": 51,
   "metadata": {},
   "outputs": [],
   "source": [
    "train.drop(['week_start_Year', 'week_start_Week'], axis =1, inplace = True)"
   ]
  },
  {
   "cell_type": "code",
   "execution_count": 56,
   "metadata": {},
   "outputs": [
    {
     "data": {
      "text/plain": [
       "city                                     category\n",
       "year                                        int64\n",
       "weekofyear                                  int64\n",
       "ndvi_ne                                   float64\n",
       "ndvi_nw                                   float64\n",
       "ndvi_se                                   float64\n",
       "ndvi_sw                                   float64\n",
       "precipitation_amt_mm                      float64\n",
       "reanalysis_air_temp_k                     float64\n",
       "reanalysis_avg_temp_k                     float64\n",
       "reanalysis_dew_point_temp_k               float64\n",
       "reanalysis_max_air_temp_k                 float64\n",
       "reanalysis_min_air_temp_k                 float64\n",
       "reanalysis_precip_amt_kg_per_m2           float64\n",
       "reanalysis_relative_humidity_percent      float64\n",
       "reanalysis_sat_precip_amt_mm              float64\n",
       "reanalysis_specific_humidity_g_per_kg     float64\n",
       "reanalysis_tdtr_k                         float64\n",
       "station_avg_temp_c                        float64\n",
       "station_diur_temp_rng_c                   float64\n",
       "station_max_temp_c                        float64\n",
       "station_min_temp_c                        float64\n",
       "station_precip_mm                         float64\n",
       "total_cases                                 int64\n",
       "week_start_Month                            int64\n",
       "week_start_Day                              int64\n",
       "week_start_Dayofweek                        int64\n",
       "week_start_Dayofyear                        int64\n",
       "week_start_Is_month_end                      bool\n",
       "week_start_Is_month_start                    bool\n",
       "week_start_Is_quarter_end                    bool\n",
       "week_start_Is_quarter_start                  bool\n",
       "week_start_Is_year_end                       bool\n",
       "week_start_Is_year_start                     bool\n",
       "week_start_Elapsed                          int64\n",
       "dtype: object"
      ]
     },
     "execution_count": 56,
     "metadata": {},
     "output_type": "execute_result"
    }
   ],
   "source": [
    "train.dtypes"
   ]
  },
  {
   "cell_type": "code",
   "execution_count": 55,
   "metadata": {},
   "outputs": [],
   "source": [
    "train_cats(train)"
   ]
  },
  {
   "cell_type": "code",
   "execution_count": 57,
   "metadata": {},
   "outputs": [
    {
     "data": {
      "text/plain": [
       "Index(['iq', 'sj'], dtype='object')"
      ]
     },
     "execution_count": 57,
     "metadata": {},
     "output_type": "execute_result"
    }
   ],
   "source": [
    "train.city.cat.categories"
   ]
  },
  {
   "cell_type": "code",
   "execution_count": 59,
   "metadata": {},
   "outputs": [],
   "source": [
    "os.makedirs('tmp', exist_ok=True)\n",
    "train.to_feather('tmp/dengue-raw')"
   ]
  },
  {
   "cell_type": "markdown",
   "metadata": {},
   "source": [
    "## Running a Basic Random Forest Model \n",
    "\n",
    "I would want to examine if random forest models are able to extrapolate to time series models. "
   ]
  },
  {
   "cell_type": "code",
   "execution_count": 60,
   "metadata": {},
   "outputs": [],
   "source": [
    "df_raw = pd.read_feather('tmp/dengue-raw')"
   ]
  },
  {
   "cell_type": "code",
   "execution_count": 61,
   "metadata": {},
   "outputs": [],
   "source": [
    "df, y, nas = proc_df(df_raw, 'total_cases')"
   ]
  },
  {
   "cell_type": "code",
   "execution_count": 62,
   "metadata": {},
   "outputs": [
    {
     "data": {
      "text/plain": [
       "0.9719622243134957"
      ]
     },
     "execution_count": 62,
     "metadata": {},
     "output_type": "execute_result"
    }
   ],
   "source": [
    "m = RandomForestRegressor(n_jobs=-1)\n",
    "m.fit(df, y)\n",
    "m.score(df,y)"
   ]
  },
  {
   "cell_type": "markdown",
   "metadata": {},
   "source": [
    "Split into training and validation set "
   ]
  },
  {
   "cell_type": "code",
   "execution_count": 65,
   "metadata": {},
   "outputs": [
    {
     "data": {
      "text/plain": [
       "((1256, 54), (1256,), (200, 54), (200,))"
      ]
     },
     "execution_count": 65,
     "metadata": {},
     "output_type": "execute_result"
    }
   ],
   "source": [
    "def split_vals(a,n): return a[:n].copy(), a[n:].copy()\n",
    "\n",
    "n_valid = 200  # same as Kaggle's test set size\n",
    "n_trn = len(df)-n_valid\n",
    "raw_train, raw_valid = split_vals(df_raw, n_trn)\n",
    "X_train, X_valid = split_vals(df, n_trn)\n",
    "y_train, y_valid = split_vals(y, n_trn)\n",
    "\n",
    "X_train.shape, y_train.shape, X_valid.shape, y_valid.shape"
   ]
  },
  {
   "cell_type": "code",
   "execution_count": 66,
   "metadata": {},
   "outputs": [],
   "source": [
    "# Metric used for the DengAI competition (Mean Absolute Error (MAE))\n",
    "from sklearn.metrics import mean_absolute_error\n",
    "\n",
    "# Function to print the MAE (Mean Absolute Error) score\n",
    "# This is the metric used by Kaggle in this competition\n",
    "def print_score(m : RandomForestRegressor):\n",
    "    res = ['mae train: ', mean_absolute_error(m.predict(X_train), y_train), \n",
    "           'mae val: ', mean_absolute_error(m.predict(X_valid), y_valid),\n",
    "           'R square train:', m.score(X_train, y_train), \n",
    "           'R square val:', m.score(X_valid, y_valid)]\n",
    "    if hasattr(m, 'oob_score_'): res.append(m.oob_score_)\n",
    "    print(res)"
   ]
  },
  {
   "cell_type": "code",
   "execution_count": 67,
   "metadata": {},
   "outputs": [
    {
     "name": "stdout",
     "output_type": "stream",
     "text": [
      "['mae train: ', 3.939028662420382, 'mae val: ', 7.4075999999999995, 'R square train:', 0.9725653082995526, 'R square val:', -0.10007350455069242]\n"
     ]
    }
   ],
   "source": [
    "m1 = RandomForestRegressor(n_jobs=-1)\n",
    "m1.fit(X_train, y_train)\n",
    "print_score(m1)"
   ]
  },
  {
   "cell_type": "markdown",
   "metadata": {},
   "source": [
    "Clearly, there is some problem with our validation set as we have only selected 'iq' but not 'sf'."
   ]
  },
  {
   "cell_type": "markdown",
   "metadata": {},
   "source": [
    "## Redefining our validation set "
   ]
  },
  {
   "cell_type": "markdown",
   "metadata": {},
   "source": [
    "Let us first look at our test set, so that our validation set can resemble it. "
   ]
  },
  {
   "cell_type": "code",
   "execution_count": 101,
   "metadata": {},
   "outputs": [],
   "source": [
    "test = pd.read_csv(\"/Users/chanmunfai/fastai/courses/ml1/Dengue/dengue_features_test.csv\", low_memory = False)"
   ]
  },
  {
   "cell_type": "code",
   "execution_count": 120,
   "metadata": {},
   "outputs": [
    {
     "data": {
      "text/plain": [
       "(416, 24)"
      ]
     },
     "execution_count": 120,
     "metadata": {},
     "output_type": "execute_result"
    }
   ],
   "source": [
    "test.shape"
   ]
  },
  {
   "cell_type": "code",
   "execution_count": 108,
   "metadata": {},
   "outputs": [
    {
     "data": {
      "text/html": [
       "<div>\n",
       "<style scoped>\n",
       "    .dataframe tbody tr th:only-of-type {\n",
       "        vertical-align: middle;\n",
       "    }\n",
       "\n",
       "    .dataframe tbody tr th {\n",
       "        vertical-align: top;\n",
       "    }\n",
       "\n",
       "    .dataframe thead th {\n",
       "        text-align: right;\n",
       "    }\n",
       "</style>\n",
       "<table border=\"1\" class=\"dataframe\">\n",
       "  <thead>\n",
       "    <tr style=\"text-align: right;\">\n",
       "      <th></th>\n",
       "      <th>city</th>\n",
       "      <th>year</th>\n",
       "      <th>weekofyear</th>\n",
       "      <th>week_start_date</th>\n",
       "      <th>ndvi_ne</th>\n",
       "      <th>ndvi_nw</th>\n",
       "      <th>ndvi_se</th>\n",
       "      <th>ndvi_sw</th>\n",
       "      <th>precipitation_amt_mm</th>\n",
       "      <th>reanalysis_air_temp_k</th>\n",
       "      <th>...</th>\n",
       "      <th>reanalysis_precip_amt_kg_per_m2</th>\n",
       "      <th>reanalysis_relative_humidity_percent</th>\n",
       "      <th>reanalysis_sat_precip_amt_mm</th>\n",
       "      <th>reanalysis_specific_humidity_g_per_kg</th>\n",
       "      <th>reanalysis_tdtr_k</th>\n",
       "      <th>station_avg_temp_c</th>\n",
       "      <th>station_diur_temp_rng_c</th>\n",
       "      <th>station_max_temp_c</th>\n",
       "      <th>station_min_temp_c</th>\n",
       "      <th>station_precip_mm</th>\n",
       "    </tr>\n",
       "  </thead>\n",
       "  <tbody>\n",
       "    <tr>\n",
       "      <th>255</th>\n",
       "      <td>sj</td>\n",
       "      <td>2013</td>\n",
       "      <td>13</td>\n",
       "      <td>2013-03-26</td>\n",
       "      <td>-0.08740</td>\n",
       "      <td>-0.016183</td>\n",
       "      <td>0.156343</td>\n",
       "      <td>0.105186</td>\n",
       "      <td>30.34</td>\n",
       "      <td>298.670000</td>\n",
       "      <td>...</td>\n",
       "      <td>2.55</td>\n",
       "      <td>78.780000</td>\n",
       "      <td>30.34</td>\n",
       "      <td>15.985714</td>\n",
       "      <td>3.314286</td>\n",
       "      <td>27.542857</td>\n",
       "      <td>7.942857</td>\n",
       "      <td>33.9</td>\n",
       "      <td>22.8</td>\n",
       "      <td>3.5</td>\n",
       "    </tr>\n",
       "    <tr>\n",
       "      <th>256</th>\n",
       "      <td>sj</td>\n",
       "      <td>2013</td>\n",
       "      <td>14</td>\n",
       "      <td>2013-04-02</td>\n",
       "      <td>-0.20325</td>\n",
       "      <td>-0.077833</td>\n",
       "      <td>0.204171</td>\n",
       "      <td>0.178914</td>\n",
       "      <td>6.55</td>\n",
       "      <td>298.035714</td>\n",
       "      <td>...</td>\n",
       "      <td>64.30</td>\n",
       "      <td>81.650000</td>\n",
       "      <td>6.55</td>\n",
       "      <td>15.881429</td>\n",
       "      <td>2.828571</td>\n",
       "      <td>26.642857</td>\n",
       "      <td>6.642857</td>\n",
       "      <td>33.3</td>\n",
       "      <td>22.8</td>\n",
       "      <td>17.6</td>\n",
       "    </tr>\n",
       "    <tr>\n",
       "      <th>257</th>\n",
       "      <td>sj</td>\n",
       "      <td>2013</td>\n",
       "      <td>15</td>\n",
       "      <td>2013-04-09</td>\n",
       "      <td>-0.11760</td>\n",
       "      <td>-0.008200</td>\n",
       "      <td>0.192700</td>\n",
       "      <td>0.170429</td>\n",
       "      <td>0.00</td>\n",
       "      <td>299.057143</td>\n",
       "      <td>...</td>\n",
       "      <td>0.70</td>\n",
       "      <td>78.285714</td>\n",
       "      <td>0.00</td>\n",
       "      <td>16.212857</td>\n",
       "      <td>3.171429</td>\n",
       "      <td>27.914286</td>\n",
       "      <td>8.114286</td>\n",
       "      <td>32.8</td>\n",
       "      <td>23.3</td>\n",
       "      <td>9.4</td>\n",
       "    </tr>\n",
       "    <tr>\n",
       "      <th>258</th>\n",
       "      <td>sj</td>\n",
       "      <td>2013</td>\n",
       "      <td>16</td>\n",
       "      <td>2013-04-16</td>\n",
       "      <td>0.08275</td>\n",
       "      <td>0.031200</td>\n",
       "      <td>0.135014</td>\n",
       "      <td>0.074857</td>\n",
       "      <td>0.00</td>\n",
       "      <td>298.912857</td>\n",
       "      <td>...</td>\n",
       "      <td>1.40</td>\n",
       "      <td>77.674286</td>\n",
       "      <td>0.00</td>\n",
       "      <td>15.965714</td>\n",
       "      <td>3.042857</td>\n",
       "      <td>27.728571</td>\n",
       "      <td>6.942857</td>\n",
       "      <td>31.7</td>\n",
       "      <td>23.9</td>\n",
       "      <td>22.9</td>\n",
       "    </tr>\n",
       "    <tr>\n",
       "      <th>259</th>\n",
       "      <td>sj</td>\n",
       "      <td>2013</td>\n",
       "      <td>17</td>\n",
       "      <td>2013-04-23</td>\n",
       "      <td>-0.08730</td>\n",
       "      <td>-0.048667</td>\n",
       "      <td>0.129814</td>\n",
       "      <td>0.117671</td>\n",
       "      <td>45.47</td>\n",
       "      <td>298.067143</td>\n",
       "      <td>...</td>\n",
       "      <td>19.90</td>\n",
       "      <td>79.045714</td>\n",
       "      <td>45.47</td>\n",
       "      <td>15.451429</td>\n",
       "      <td>2.342857</td>\n",
       "      <td>26.442857</td>\n",
       "      <td>6.742857</td>\n",
       "      <td>31.1</td>\n",
       "      <td>21.7</td>\n",
       "      <td>47.5</td>\n",
       "    </tr>\n",
       "  </tbody>\n",
       "</table>\n",
       "<p>5 rows × 24 columns</p>\n",
       "</div>"
      ],
      "text/plain": [
       "    city  year  weekofyear week_start_date  ndvi_ne   ndvi_nw   ndvi_se  \\\n",
       "255   sj  2013          13      2013-03-26 -0.08740 -0.016183  0.156343   \n",
       "256   sj  2013          14      2013-04-02 -0.20325 -0.077833  0.204171   \n",
       "257   sj  2013          15      2013-04-09 -0.11760 -0.008200  0.192700   \n",
       "258   sj  2013          16      2013-04-16  0.08275  0.031200  0.135014   \n",
       "259   sj  2013          17      2013-04-23 -0.08730 -0.048667  0.129814   \n",
       "\n",
       "      ndvi_sw  precipitation_amt_mm  reanalysis_air_temp_k  ...  \\\n",
       "255  0.105186                 30.34             298.670000  ...   \n",
       "256  0.178914                  6.55             298.035714  ...   \n",
       "257  0.170429                  0.00             299.057143  ...   \n",
       "258  0.074857                  0.00             298.912857  ...   \n",
       "259  0.117671                 45.47             298.067143  ...   \n",
       "\n",
       "     reanalysis_precip_amt_kg_per_m2  reanalysis_relative_humidity_percent  \\\n",
       "255                             2.55                             78.780000   \n",
       "256                            64.30                             81.650000   \n",
       "257                             0.70                             78.285714   \n",
       "258                             1.40                             77.674286   \n",
       "259                            19.90                             79.045714   \n",
       "\n",
       "     reanalysis_sat_precip_amt_mm  reanalysis_specific_humidity_g_per_kg  \\\n",
       "255                         30.34                              15.985714   \n",
       "256                          6.55                              15.881429   \n",
       "257                          0.00                              16.212857   \n",
       "258                          0.00                              15.965714   \n",
       "259                         45.47                              15.451429   \n",
       "\n",
       "     reanalysis_tdtr_k  station_avg_temp_c  station_diur_temp_rng_c  \\\n",
       "255           3.314286           27.542857                 7.942857   \n",
       "256           2.828571           26.642857                 6.642857   \n",
       "257           3.171429           27.914286                 8.114286   \n",
       "258           3.042857           27.728571                 6.942857   \n",
       "259           2.342857           26.442857                 6.742857   \n",
       "\n",
       "     station_max_temp_c  station_min_temp_c  station_precip_mm  \n",
       "255                33.9                22.8                3.5  \n",
       "256                33.3                22.8               17.6  \n",
       "257                32.8                23.3                9.4  \n",
       "258                31.7                23.9               22.9  \n",
       "259                31.1                21.7               47.5  \n",
       "\n",
       "[5 rows x 24 columns]"
      ]
     },
     "execution_count": 108,
     "metadata": {},
     "output_type": "execute_result"
    }
   ],
   "source": [
    "test[test['city'] == 'sj'].tail()"
   ]
  },
  {
   "cell_type": "code",
   "execution_count": 109,
   "metadata": {},
   "outputs": [
    {
     "data": {
      "text/plain": [
       "(260, 24)"
      ]
     },
     "metadata": {},
     "output_type": "display_data"
    },
    {
     "data": {
      "text/plain": [
       "(156, 24)"
      ]
     },
     "metadata": {},
     "output_type": "display_data"
    },
    {
     "data": {
      "text/plain": [
       "(None, None)"
      ]
     },
     "execution_count": 109,
     "metadata": {},
     "output_type": "execute_result"
    }
   ],
   "source": [
    "display(test[test['city'] == 'sj'].shape), display(test[test['city'] == 'iq'].shape)"
   ]
  },
  {
   "cell_type": "code",
   "execution_count": 115,
   "metadata": {},
   "outputs": [
    {
     "data": {
      "text/plain": [
       "0.625"
      ]
     },
     "execution_count": 115,
     "metadata": {},
     "output_type": "execute_result"
    }
   ],
   "source": [
    "260/ (260 + 156) "
   ]
  },
  {
   "cell_type": "code",
   "execution_count": 80,
   "metadata": {},
   "outputs": [
    {
     "data": {
      "text/plain": [
       "(936, 35)"
      ]
     },
     "metadata": {},
     "output_type": "display_data"
    },
    {
     "data": {
      "text/plain": [
       "(520, 35)"
      ]
     },
     "metadata": {},
     "output_type": "display_data"
    },
    {
     "data": {
      "text/plain": [
       "(None, None)"
      ]
     },
     "execution_count": 80,
     "metadata": {},
     "output_type": "execute_result"
    }
   ],
   "source": [
    "display(train[train['city'] == 'sj'].shape), display(train[train['city'] == 'iq'].shape)"
   ]
  },
  {
   "cell_type": "code",
   "execution_count": 117,
   "metadata": {},
   "outputs": [
    {
     "data": {
      "text/plain": [
       "182.0"
      ]
     },
     "execution_count": 117,
     "metadata": {},
     "output_type": "execute_result"
    }
   ],
   "source": [
    "0.625 * 0.2 * len(train)"
   ]
  },
  {
   "cell_type": "code",
   "execution_count": 118,
   "metadata": {},
   "outputs": [
    {
     "data": {
      "text/plain": [
       "109.20000000000002"
      ]
     },
     "execution_count": 118,
     "metadata": {},
     "output_type": "execute_result"
    }
   ],
   "source": [
    "(1-0.625) * 0.2 * len(train)"
   ]
  },
  {
   "cell_type": "markdown",
   "metadata": {},
   "source": [
    "Our test set requires us to test our model on the most recent dates, so we need our validation set to be on the most recent dates as well. \n",
    "\n",
    "We may want to experiment with different months and weeks of year etc in future validation sets, but this will do for now. \n",
    "\n",
    "Also, we have 62.5% of our test set on 'sj' cities, so if we want a 20% validation set that equates to 182 'sj' datapoints on validation and 110 'iq' validation datapoints. "
   ]
  },
  {
   "cell_type": "markdown",
   "metadata": {},
   "source": [
    "#### Resplitting the validation sets"
   ]
  },
  {
   "cell_type": "code",
   "execution_count": 133,
   "metadata": {},
   "outputs": [
    {
     "data": {
      "text/html": [
       "<div>\n",
       "<style scoped>\n",
       "    .dataframe tbody tr th:only-of-type {\n",
       "        vertical-align: middle;\n",
       "    }\n",
       "\n",
       "    .dataframe tbody tr th {\n",
       "        vertical-align: top;\n",
       "    }\n",
       "\n",
       "    .dataframe thead th {\n",
       "        text-align: right;\n",
       "    }\n",
       "</style>\n",
       "<table border=\"1\" class=\"dataframe\">\n",
       "  <thead>\n",
       "    <tr style=\"text-align: right;\">\n",
       "      <th></th>\n",
       "      <th>city</th>\n",
       "      <th>year</th>\n",
       "      <th>weekofyear</th>\n",
       "      <th>ndvi_ne</th>\n",
       "      <th>ndvi_nw</th>\n",
       "      <th>ndvi_se</th>\n",
       "      <th>ndvi_sw</th>\n",
       "      <th>precipitation_amt_mm</th>\n",
       "      <th>reanalysis_air_temp_k</th>\n",
       "      <th>reanalysis_avg_temp_k</th>\n",
       "      <th>...</th>\n",
       "      <th>week_start_Day</th>\n",
       "      <th>week_start_Dayofweek</th>\n",
       "      <th>week_start_Dayofyear</th>\n",
       "      <th>week_start_Is_month_end</th>\n",
       "      <th>week_start_Is_month_start</th>\n",
       "      <th>week_start_Is_quarter_end</th>\n",
       "      <th>week_start_Is_quarter_start</th>\n",
       "      <th>week_start_Is_year_end</th>\n",
       "      <th>week_start_Is_year_start</th>\n",
       "      <th>week_start_Elapsed</th>\n",
       "    </tr>\n",
       "  </thead>\n",
       "  <tbody>\n",
       "    <tr>\n",
       "      <th>931</th>\n",
       "      <td>sj</td>\n",
       "      <td>2008</td>\n",
       "      <td>13</td>\n",
       "      <td>0.07785</td>\n",
       "      <td>-0.039900</td>\n",
       "      <td>0.310471</td>\n",
       "      <td>0.296243</td>\n",
       "      <td>27.19</td>\n",
       "      <td>296.958571</td>\n",
       "      <td>296.957143</td>\n",
       "      <td>...</td>\n",
       "      <td>25</td>\n",
       "      <td>1</td>\n",
       "      <td>85</td>\n",
       "      <td>False</td>\n",
       "      <td>False</td>\n",
       "      <td>False</td>\n",
       "      <td>False</td>\n",
       "      <td>False</td>\n",
       "      <td>False</td>\n",
       "      <td>1206403200</td>\n",
       "    </tr>\n",
       "    <tr>\n",
       "      <th>932</th>\n",
       "      <td>sj</td>\n",
       "      <td>2008</td>\n",
       "      <td>14</td>\n",
       "      <td>-0.03800</td>\n",
       "      <td>-0.016833</td>\n",
       "      <td>0.119371</td>\n",
       "      <td>0.066386</td>\n",
       "      <td>3.82</td>\n",
       "      <td>298.081429</td>\n",
       "      <td>298.228571</td>\n",
       "      <td>...</td>\n",
       "      <td>1</td>\n",
       "      <td>1</td>\n",
       "      <td>92</td>\n",
       "      <td>False</td>\n",
       "      <td>True</td>\n",
       "      <td>False</td>\n",
       "      <td>True</td>\n",
       "      <td>False</td>\n",
       "      <td>False</td>\n",
       "      <td>1207008000</td>\n",
       "    </tr>\n",
       "    <tr>\n",
       "      <th>933</th>\n",
       "      <td>sj</td>\n",
       "      <td>2008</td>\n",
       "      <td>15</td>\n",
       "      <td>-0.15520</td>\n",
       "      <td>-0.052750</td>\n",
       "      <td>0.137757</td>\n",
       "      <td>0.141214</td>\n",
       "      <td>16.96</td>\n",
       "      <td>297.460000</td>\n",
       "      <td>297.564286</td>\n",
       "      <td>...</td>\n",
       "      <td>8</td>\n",
       "      <td>1</td>\n",
       "      <td>99</td>\n",
       "      <td>False</td>\n",
       "      <td>False</td>\n",
       "      <td>False</td>\n",
       "      <td>False</td>\n",
       "      <td>False</td>\n",
       "      <td>False</td>\n",
       "      <td>1207612800</td>\n",
       "    </tr>\n",
       "    <tr>\n",
       "      <th>934</th>\n",
       "      <td>sj</td>\n",
       "      <td>2008</td>\n",
       "      <td>16</td>\n",
       "      <td>0.00180</td>\n",
       "      <td>NaN</td>\n",
       "      <td>0.203900</td>\n",
       "      <td>0.209843</td>\n",
       "      <td>0.00</td>\n",
       "      <td>297.630000</td>\n",
       "      <td>297.778571</td>\n",
       "      <td>...</td>\n",
       "      <td>15</td>\n",
       "      <td>1</td>\n",
       "      <td>106</td>\n",
       "      <td>False</td>\n",
       "      <td>False</td>\n",
       "      <td>False</td>\n",
       "      <td>False</td>\n",
       "      <td>False</td>\n",
       "      <td>False</td>\n",
       "      <td>1208217600</td>\n",
       "    </tr>\n",
       "    <tr>\n",
       "      <th>935</th>\n",
       "      <td>sj</td>\n",
       "      <td>2008</td>\n",
       "      <td>17</td>\n",
       "      <td>-0.03700</td>\n",
       "      <td>-0.010367</td>\n",
       "      <td>0.077314</td>\n",
       "      <td>0.090586</td>\n",
       "      <td>0.00</td>\n",
       "      <td>298.672857</td>\n",
       "      <td>298.692857</td>\n",
       "      <td>...</td>\n",
       "      <td>22</td>\n",
       "      <td>1</td>\n",
       "      <td>113</td>\n",
       "      <td>False</td>\n",
       "      <td>False</td>\n",
       "      <td>False</td>\n",
       "      <td>False</td>\n",
       "      <td>False</td>\n",
       "      <td>False</td>\n",
       "      <td>1208822400</td>\n",
       "    </tr>\n",
       "  </tbody>\n",
       "</table>\n",
       "<p>5 rows × 35 columns</p>\n",
       "</div>"
      ],
      "text/plain": [
       "    city  year  weekofyear  ndvi_ne   ndvi_nw   ndvi_se   ndvi_sw  \\\n",
       "931   sj  2008          13  0.07785 -0.039900  0.310471  0.296243   \n",
       "932   sj  2008          14 -0.03800 -0.016833  0.119371  0.066386   \n",
       "933   sj  2008          15 -0.15520 -0.052750  0.137757  0.141214   \n",
       "934   sj  2008          16  0.00180       NaN  0.203900  0.209843   \n",
       "935   sj  2008          17 -0.03700 -0.010367  0.077314  0.090586   \n",
       "\n",
       "     precipitation_amt_mm  reanalysis_air_temp_k  reanalysis_avg_temp_k  ...  \\\n",
       "931                 27.19             296.958571             296.957143  ...   \n",
       "932                  3.82             298.081429             298.228571  ...   \n",
       "933                 16.96             297.460000             297.564286  ...   \n",
       "934                  0.00             297.630000             297.778571  ...   \n",
       "935                  0.00             298.672857             298.692857  ...   \n",
       "\n",
       "     week_start_Day  week_start_Dayofweek  week_start_Dayofyear  \\\n",
       "931              25                     1                    85   \n",
       "932               1                     1                    92   \n",
       "933               8                     1                    99   \n",
       "934              15                     1                   106   \n",
       "935              22                     1                   113   \n",
       "\n",
       "     week_start_Is_month_end  week_start_Is_month_start  \\\n",
       "931                    False                      False   \n",
       "932                    False                       True   \n",
       "933                    False                      False   \n",
       "934                    False                      False   \n",
       "935                    False                      False   \n",
       "\n",
       "     week_start_Is_quarter_end  week_start_Is_quarter_start  \\\n",
       "931                      False                        False   \n",
       "932                      False                         True   \n",
       "933                      False                        False   \n",
       "934                      False                        False   \n",
       "935                      False                        False   \n",
       "\n",
       "     week_start_Is_year_end  week_start_Is_year_start  week_start_Elapsed  \n",
       "931                   False                     False          1206403200  \n",
       "932                   False                     False          1207008000  \n",
       "933                   False                     False          1207612800  \n",
       "934                   False                     False          1208217600  \n",
       "935                   False                     False          1208822400  \n",
       "\n",
       "[5 rows x 35 columns]"
      ]
     },
     "execution_count": 133,
     "metadata": {},
     "output_type": "execute_result"
    }
   ],
   "source": [
    "train_sj = train[train['city'] == 'sj']; \n",
    "train_sj.tail()"
   ]
  },
  {
   "cell_type": "code",
   "execution_count": 135,
   "metadata": {},
   "outputs": [
    {
     "data": {
      "text/html": [
       "<div>\n",
       "<style scoped>\n",
       "    .dataframe tbody tr th:only-of-type {\n",
       "        vertical-align: middle;\n",
       "    }\n",
       "\n",
       "    .dataframe tbody tr th {\n",
       "        vertical-align: top;\n",
       "    }\n",
       "\n",
       "    .dataframe thead th {\n",
       "        text-align: right;\n",
       "    }\n",
       "</style>\n",
       "<table border=\"1\" class=\"dataframe\">\n",
       "  <thead>\n",
       "    <tr style=\"text-align: right;\">\n",
       "      <th></th>\n",
       "      <th>city</th>\n",
       "      <th>year</th>\n",
       "      <th>weekofyear</th>\n",
       "      <th>ndvi_ne</th>\n",
       "      <th>ndvi_nw</th>\n",
       "      <th>ndvi_se</th>\n",
       "      <th>ndvi_sw</th>\n",
       "      <th>precipitation_amt_mm</th>\n",
       "      <th>reanalysis_air_temp_k</th>\n",
       "      <th>reanalysis_avg_temp_k</th>\n",
       "      <th>...</th>\n",
       "      <th>week_start_Day</th>\n",
       "      <th>week_start_Dayofweek</th>\n",
       "      <th>week_start_Dayofyear</th>\n",
       "      <th>week_start_Is_month_end</th>\n",
       "      <th>week_start_Is_month_start</th>\n",
       "      <th>week_start_Is_quarter_end</th>\n",
       "      <th>week_start_Is_quarter_start</th>\n",
       "      <th>week_start_Is_year_end</th>\n",
       "      <th>week_start_Is_year_start</th>\n",
       "      <th>week_start_Elapsed</th>\n",
       "    </tr>\n",
       "  </thead>\n",
       "  <tbody>\n",
       "    <tr>\n",
       "      <th>1451</th>\n",
       "      <td>iq</td>\n",
       "      <td>2010</td>\n",
       "      <td>21</td>\n",
       "      <td>0.342750</td>\n",
       "      <td>0.318900</td>\n",
       "      <td>0.256343</td>\n",
       "      <td>0.292514</td>\n",
       "      <td>55.30</td>\n",
       "      <td>299.334286</td>\n",
       "      <td>300.771429</td>\n",
       "      <td>...</td>\n",
       "      <td>28</td>\n",
       "      <td>4</td>\n",
       "      <td>148</td>\n",
       "      <td>False</td>\n",
       "      <td>False</td>\n",
       "      <td>False</td>\n",
       "      <td>False</td>\n",
       "      <td>False</td>\n",
       "      <td>False</td>\n",
       "      <td>1275004800</td>\n",
       "    </tr>\n",
       "    <tr>\n",
       "      <th>1452</th>\n",
       "      <td>iq</td>\n",
       "      <td>2010</td>\n",
       "      <td>22</td>\n",
       "      <td>0.160157</td>\n",
       "      <td>0.160371</td>\n",
       "      <td>0.136043</td>\n",
       "      <td>0.225657</td>\n",
       "      <td>86.47</td>\n",
       "      <td>298.330000</td>\n",
       "      <td>299.392857</td>\n",
       "      <td>...</td>\n",
       "      <td>4</td>\n",
       "      <td>4</td>\n",
       "      <td>155</td>\n",
       "      <td>False</td>\n",
       "      <td>False</td>\n",
       "      <td>False</td>\n",
       "      <td>False</td>\n",
       "      <td>False</td>\n",
       "      <td>False</td>\n",
       "      <td>1275609600</td>\n",
       "    </tr>\n",
       "    <tr>\n",
       "      <th>1453</th>\n",
       "      <td>iq</td>\n",
       "      <td>2010</td>\n",
       "      <td>23</td>\n",
       "      <td>0.247057</td>\n",
       "      <td>0.146057</td>\n",
       "      <td>0.250357</td>\n",
       "      <td>0.233714</td>\n",
       "      <td>58.94</td>\n",
       "      <td>296.598571</td>\n",
       "      <td>297.592857</td>\n",
       "      <td>...</td>\n",
       "      <td>11</td>\n",
       "      <td>4</td>\n",
       "      <td>162</td>\n",
       "      <td>False</td>\n",
       "      <td>False</td>\n",
       "      <td>False</td>\n",
       "      <td>False</td>\n",
       "      <td>False</td>\n",
       "      <td>False</td>\n",
       "      <td>1276214400</td>\n",
       "    </tr>\n",
       "    <tr>\n",
       "      <th>1454</th>\n",
       "      <td>iq</td>\n",
       "      <td>2010</td>\n",
       "      <td>24</td>\n",
       "      <td>0.333914</td>\n",
       "      <td>0.245771</td>\n",
       "      <td>0.278886</td>\n",
       "      <td>0.325486</td>\n",
       "      <td>59.67</td>\n",
       "      <td>296.345714</td>\n",
       "      <td>297.521429</td>\n",
       "      <td>...</td>\n",
       "      <td>18</td>\n",
       "      <td>4</td>\n",
       "      <td>169</td>\n",
       "      <td>False</td>\n",
       "      <td>False</td>\n",
       "      <td>False</td>\n",
       "      <td>False</td>\n",
       "      <td>False</td>\n",
       "      <td>False</td>\n",
       "      <td>1276819200</td>\n",
       "    </tr>\n",
       "    <tr>\n",
       "      <th>1455</th>\n",
       "      <td>iq</td>\n",
       "      <td>2010</td>\n",
       "      <td>25</td>\n",
       "      <td>0.298186</td>\n",
       "      <td>0.232971</td>\n",
       "      <td>0.274214</td>\n",
       "      <td>0.315757</td>\n",
       "      <td>63.22</td>\n",
       "      <td>298.097143</td>\n",
       "      <td>299.835714</td>\n",
       "      <td>...</td>\n",
       "      <td>25</td>\n",
       "      <td>4</td>\n",
       "      <td>176</td>\n",
       "      <td>False</td>\n",
       "      <td>False</td>\n",
       "      <td>False</td>\n",
       "      <td>False</td>\n",
       "      <td>False</td>\n",
       "      <td>False</td>\n",
       "      <td>1277424000</td>\n",
       "    </tr>\n",
       "  </tbody>\n",
       "</table>\n",
       "<p>5 rows × 35 columns</p>\n",
       "</div>"
      ],
      "text/plain": [
       "     city  year  weekofyear   ndvi_ne   ndvi_nw   ndvi_se   ndvi_sw  \\\n",
       "1451   iq  2010          21  0.342750  0.318900  0.256343  0.292514   \n",
       "1452   iq  2010          22  0.160157  0.160371  0.136043  0.225657   \n",
       "1453   iq  2010          23  0.247057  0.146057  0.250357  0.233714   \n",
       "1454   iq  2010          24  0.333914  0.245771  0.278886  0.325486   \n",
       "1455   iq  2010          25  0.298186  0.232971  0.274214  0.315757   \n",
       "\n",
       "      precipitation_amt_mm  reanalysis_air_temp_k  reanalysis_avg_temp_k  ...  \\\n",
       "1451                 55.30             299.334286             300.771429  ...   \n",
       "1452                 86.47             298.330000             299.392857  ...   \n",
       "1453                 58.94             296.598571             297.592857  ...   \n",
       "1454                 59.67             296.345714             297.521429  ...   \n",
       "1455                 63.22             298.097143             299.835714  ...   \n",
       "\n",
       "      week_start_Day  week_start_Dayofweek  week_start_Dayofyear  \\\n",
       "1451              28                     4                   148   \n",
       "1452               4                     4                   155   \n",
       "1453              11                     4                   162   \n",
       "1454              18                     4                   169   \n",
       "1455              25                     4                   176   \n",
       "\n",
       "      week_start_Is_month_end  week_start_Is_month_start  \\\n",
       "1451                    False                      False   \n",
       "1452                    False                      False   \n",
       "1453                    False                      False   \n",
       "1454                    False                      False   \n",
       "1455                    False                      False   \n",
       "\n",
       "      week_start_Is_quarter_end  week_start_Is_quarter_start  \\\n",
       "1451                      False                        False   \n",
       "1452                      False                        False   \n",
       "1453                      False                        False   \n",
       "1454                      False                        False   \n",
       "1455                      False                        False   \n",
       "\n",
       "      week_start_Is_year_end  week_start_Is_year_start  week_start_Elapsed  \n",
       "1451                   False                     False          1275004800  \n",
       "1452                   False                     False          1275609600  \n",
       "1453                   False                     False          1276214400  \n",
       "1454                   False                     False          1276819200  \n",
       "1455                   False                     False          1277424000  \n",
       "\n",
       "[5 rows x 35 columns]"
      ]
     },
     "execution_count": 135,
     "metadata": {},
     "output_type": "execute_result"
    }
   ],
   "source": [
    "train_iq = train[train['city'] == 'iq']; \n",
    "train_iq.tail()"
   ]
  },
  {
   "cell_type": "code",
   "execution_count": 124,
   "metadata": {},
   "outputs": [],
   "source": [
    "df_sj, y_sj, nas_sj = proc_df(train_sj, 'total_cases')"
   ]
  },
  {
   "cell_type": "code",
   "execution_count": 125,
   "metadata": {},
   "outputs": [
    {
     "data": {
      "text/plain": [
       "((754, 54), (754,), (182, 54), (182,))"
      ]
     },
     "execution_count": 125,
     "metadata": {},
     "output_type": "execute_result"
    }
   ],
   "source": [
    "def split_vals(a,n): return a[:n].copy(), a[n:].copy()\n",
    "\n",
    "n_valid = 182  # same as Kaggle's test set size\n",
    "n_trn = len(train_sj)-n_valid\n",
    "raw_train_sj, raw_valid_sj = split_vals(train_sj, n_trn)\n",
    "X_train_sj, X_valid_sj = split_vals(df_sj, n_trn)\n",
    "y_train_sj, y_valid_sj = split_vals(y_sj, n_trn)\n",
    "\n",
    "X_train_sj.shape, y_train_sj.shape, X_valid_sj.shape, y_valid_sj.shape"
   ]
  },
  {
   "cell_type": "code",
   "execution_count": 126,
   "metadata": {},
   "outputs": [],
   "source": [
    "df_iq, y_iq, nas_iq = proc_df(train_iq, 'total_cases')"
   ]
  },
  {
   "cell_type": "code",
   "execution_count": 127,
   "metadata": {},
   "outputs": [
    {
     "data": {
      "text/plain": [
       "((410, 54), (410,), (110, 54), (110,))"
      ]
     },
     "execution_count": 127,
     "metadata": {},
     "output_type": "execute_result"
    }
   ],
   "source": [
    "def split_vals(a,n): return a[:n].copy(), a[n:].copy()\n",
    "\n",
    "n_valid = 110  # same as Kaggle's test set size\n",
    "n_trn = len(train_iq)-n_valid\n",
    "raw_train_iq, raw_valid_iq = split_vals(train_iq, n_trn)\n",
    "X_train_iq, X_valid_iq = split_vals(df_iq, n_trn)\n",
    "y_train_iq, y_valid_iq = split_vals(y_iq, n_trn)\n",
    "\n",
    "X_train_iq.shape, y_train_iq.shape, X_valid_iq.shape, y_valid_iq.shape"
   ]
  },
  {
   "cell_type": "code",
   "execution_count": 167,
   "metadata": {},
   "outputs": [
    {
     "data": {
      "text/plain": [
       "(1164, 54)"
      ]
     },
     "execution_count": 167,
     "metadata": {},
     "output_type": "execute_result"
    }
   ],
   "source": [
    "X_train = pd.concat([X_train_sj, X_train_iq]);\n",
    "X_train.reset_index(drop = True, inplace = True)\n",
    "X_train.shape"
   ]
  },
  {
   "cell_type": "code",
   "execution_count": 174,
   "metadata": {},
   "outputs": [
    {
     "data": {
      "text/plain": [
       "(292, 54)"
      ]
     },
     "execution_count": 174,
     "metadata": {},
     "output_type": "execute_result"
    }
   ],
   "source": [
    "X_valid = pd.concat([X_valid_sj, X_valid_iq]); \n",
    "X_valid.reset_index(drop = True, inplace = True)\n",
    "X_valid.shape"
   ]
  },
  {
   "cell_type": "code",
   "execution_count": 162,
   "metadata": {},
   "outputs": [],
   "source": [
    "X_train.to_feather('tmp/dengue-Xtrain')\n",
    "X_valid.to_feather('tmp/dengue-Xvalid')"
   ]
  },
  {
   "cell_type": "code",
   "execution_count": 177,
   "metadata": {},
   "outputs": [
    {
     "data": {
      "text/plain": [
       "(1164, 1)"
      ]
     },
     "execution_count": 177,
     "metadata": {},
     "output_type": "execute_result"
    }
   ],
   "source": [
    "y_train = np.concatenate([y_train_sj, y_train_iq])\n",
    "y_train = pd.DataFrame(data = y_train)\n",
    "y_train.shape"
   ]
  },
  {
   "cell_type": "code",
   "execution_count": 181,
   "metadata": {},
   "outputs": [
    {
     "data": {
      "text/plain": [
       "(292, 1)"
      ]
     },
     "execution_count": 181,
     "metadata": {},
     "output_type": "execute_result"
    }
   ],
   "source": [
    "y_valid = np.concatenate([y_valid_sj, y_valid_iq])\n",
    "y_valid = pd.DataFrame(data = y_valid)\n",
    "y_valid.shape"
   ]
  },
  {
   "cell_type": "code",
   "execution_count": 183,
   "metadata": {},
   "outputs": [],
   "source": [
    "# y_train.to_feather('tmp/dengue-ytrain')\n",
    "# y_valid.to_feather('tmp/dengue-yvalid')"
   ]
  },
  {
   "cell_type": "markdown",
   "metadata": {},
   "source": [
    "Making the dependent variable into a feather will be a lot more convenient, but I will get to that later. \n",
    "\n",
    "Validation set may have to be chanegd as well. "
   ]
  },
  {
   "cell_type": "markdown",
   "metadata": {},
   "source": [
    "## Rerunning a random forest "
   ]
  },
  {
   "cell_type": "code",
   "execution_count": 163,
   "metadata": {},
   "outputs": [],
   "source": [
    "X_train = pd.read_feather('tmp/dengue-Xtrain')\n",
    "X_valid = pd.read_feather('tmp/dengue-Xvalid')"
   ]
  },
  {
   "cell_type": "code",
   "execution_count": 182,
   "metadata": {},
   "outputs": [
    {
     "name": "stderr",
     "output_type": "stream",
     "text": [
      "/Users/chanmunfai/opt/anaconda3/envs/fastai-cpu/lib/python3.6/site-packages/ipykernel_launcher.py:1: DataConversionWarning: A column-vector y was passed when a 1d array was expected. Please change the shape of y to (n_samples,), for example using ravel().\n",
      "  \"\"\"Entry point for launching an IPython kernel.\n"
     ]
    },
    {
     "name": "stdout",
     "output_type": "stream",
     "text": [
      "CPU times: user 1.99 s, sys: 28 ms, total: 2.02 s\n",
      "Wall time: 765 ms\n",
      "['mae train: ', 3.7869158075601375, 'mae val: ', 13.431335616438355, 'R square train:', 0.9656169217649994, 'R square val:', 0.15209596012010884]\n"
     ]
    }
   ],
   "source": [
    "m2 = RandomForestRegressor(n_jobs=-1)\n",
    "%time m2.fit(X_train, y_train)\n",
    "print_score(m2)"
   ]
  },
  {
   "cell_type": "markdown",
   "metadata": {},
   "source": [
    "Here, we see that our performance has improved by looking at both cities. However, there is a strong time-based dependency which our model is unable to deal with. \n",
    "\n",
    "This model with absolutely no tweaking gave us a MAE of 29.5793 which is a pretty bad rank of 2879/9207 competitors. "
   ]
  },
  {
   "cell_type": "code",
   "execution_count": 284,
   "metadata": {},
   "outputs": [
    {
     "name": "stderr",
     "output_type": "stream",
     "text": [
      "/Users/chanmunfai/opt/anaconda3/envs/fastai-cpu/lib/python3.6/site-packages/ipykernel_launcher.py:1: DataConversionWarning: A column-vector y was passed when a 1d array was expected. Please change the shape of y to (n_samples,), for example using ravel().\n",
      "  \"\"\"Entry point for launching an IPython kernel.\n"
     ]
    },
    {
     "name": "stdout",
     "output_type": "stream",
     "text": [
      "CPU times: user 5.25 s, sys: 434 ms, total: 5.69 s\n",
      "Wall time: 3.29 s\n",
      "['mae train: ', 7.024826683279827, 'mae val: ', 14.062645360270384, 'R square train:', 0.9102391877823006, 'R square val:', 0.22031864797629286, 0.7170923778279861]\n"
     ]
    }
   ],
   "source": [
    "m3 = RandomForestRegressor(n_estimators = 1600 , max_features = 'log2', min_samples_leaf =2, oob_score = True,  n_jobs=-1)\n",
    "%time m3.fit(X_train, y_train)\n",
    "print_score(m3)"
   ]
  },
  {
   "cell_type": "code",
   "execution_count": 293,
   "metadata": {},
   "outputs": [
    {
     "name": "stderr",
     "output_type": "stream",
     "text": [
      "/Users/chanmunfai/opt/anaconda3/envs/fastai-cpu/lib/python3.6/site-packages/ipykernel_launcher.py:1: DataConversionWarning: A column-vector y was passed when a 1d array was expected. Please change the shape of y to (n_samples,), for example using ravel().\n",
      "  \"\"\"Entry point for launching an IPython kernel.\n"
     ]
    },
    {
     "name": "stdout",
     "output_type": "stream",
     "text": [
      "CPU times: user 28 s, sys: 2.38 s, total: 30.3 s\n",
      "Wall time: 19.3 s\n",
      "['mae train: ', 7.0255896668690925, 'mae val: ', 14.104636131763833, 'R square train:', 0.9105709016401224, 'R square val:', 0.22233541061603357, 0.7198413834204558]\n"
     ]
    }
   ],
   "source": [
    "m4 = RandomForestRegressor(n_estimators = 8000 , max_features = 'log2', min_samples_leaf =2, oob_score = True,  n_jobs=-1)\n",
    "%time m4.fit(X_train, y_train)\n",
    "print_score(m4)"
   ]
  },
  {
   "cell_type": "markdown",
   "metadata": {},
   "source": [
    "We submitted this and got an MAE of 29.5793. It seems like we can't do much better at this model by simply running it as many times as we can. \n",
    "\n",
    "This is slightly worse than the baseline score, which isn't that bad given that we used absolutely no techniques in accounting for the time series, and that random forests are generally bad at extrapolating outside the time zone. \n",
    "\n",
    "We will then go on to experiment more with pre and post processing methods to deal with the time series. \n",
    "\n",
    "Useful link : https://www.statworx.com/at/blog/time-series-forecasting-with-random-forest/\n",
    "\n",
    "\n",
    "Baseline model : https://www.drivendata.co/blog/dengue-benchmark/"
   ]
  },
  {
   "cell_type": "markdown",
   "metadata": {},
   "source": [
    "## Submission Script "
   ]
  },
  {
   "cell_type": "code",
   "execution_count": 185,
   "metadata": {},
   "outputs": [],
   "source": [
    "samp_sub = pd.read_csv(\"/Users/chanmunfai/fastai/courses/ml1/Dengue/submission_format.csv\", low_memory = False)"
   ]
  },
  {
   "cell_type": "code",
   "execution_count": 186,
   "metadata": {},
   "outputs": [
    {
     "data": {
      "text/html": [
       "<div>\n",
       "<style scoped>\n",
       "    .dataframe tbody tr th:only-of-type {\n",
       "        vertical-align: middle;\n",
       "    }\n",
       "\n",
       "    .dataframe tbody tr th {\n",
       "        vertical-align: top;\n",
       "    }\n",
       "\n",
       "    .dataframe thead th {\n",
       "        text-align: right;\n",
       "    }\n",
       "</style>\n",
       "<table border=\"1\" class=\"dataframe\">\n",
       "  <thead>\n",
       "    <tr style=\"text-align: right;\">\n",
       "      <th></th>\n",
       "      <th>city</th>\n",
       "      <th>year</th>\n",
       "      <th>weekofyear</th>\n",
       "      <th>total_cases</th>\n",
       "    </tr>\n",
       "  </thead>\n",
       "  <tbody>\n",
       "    <tr>\n",
       "      <th>0</th>\n",
       "      <td>sj</td>\n",
       "      <td>2008</td>\n",
       "      <td>18</td>\n",
       "      <td>0</td>\n",
       "    </tr>\n",
       "    <tr>\n",
       "      <th>1</th>\n",
       "      <td>sj</td>\n",
       "      <td>2008</td>\n",
       "      <td>19</td>\n",
       "      <td>0</td>\n",
       "    </tr>\n",
       "    <tr>\n",
       "      <th>2</th>\n",
       "      <td>sj</td>\n",
       "      <td>2008</td>\n",
       "      <td>20</td>\n",
       "      <td>0</td>\n",
       "    </tr>\n",
       "    <tr>\n",
       "      <th>3</th>\n",
       "      <td>sj</td>\n",
       "      <td>2008</td>\n",
       "      <td>21</td>\n",
       "      <td>0</td>\n",
       "    </tr>\n",
       "    <tr>\n",
       "      <th>4</th>\n",
       "      <td>sj</td>\n",
       "      <td>2008</td>\n",
       "      <td>22</td>\n",
       "      <td>0</td>\n",
       "    </tr>\n",
       "  </tbody>\n",
       "</table>\n",
       "</div>"
      ],
      "text/plain": [
       "  city  year  weekofyear  total_cases\n",
       "0   sj  2008          18            0\n",
       "1   sj  2008          19            0\n",
       "2   sj  2008          20            0\n",
       "3   sj  2008          21            0\n",
       "4   sj  2008          22            0"
      ]
     },
     "execution_count": 186,
     "metadata": {},
     "output_type": "execute_result"
    }
   ],
   "source": [
    "samp_sub.head()"
   ]
  },
  {
   "cell_type": "markdown",
   "metadata": {},
   "source": [
    "#### Making the test set the same as the training set "
   ]
  },
  {
   "cell_type": "code",
   "execution_count": 198,
   "metadata": {},
   "outputs": [],
   "source": [
    "test = pd.read_csv(\"/Users/chanmunfai/fastai/courses/ml1/Dengue/dengue_features_test.csv\", low_memory = False)"
   ]
  },
  {
   "cell_type": "code",
   "execution_count": 194,
   "metadata": {},
   "outputs": [
    {
     "data": {
      "text/plain": [
       "((416, 24), (1456, 35))"
      ]
     },
     "execution_count": 194,
     "metadata": {},
     "output_type": "execute_result"
    }
   ],
   "source": [
    "test.shape, train.shape"
   ]
  },
  {
   "cell_type": "code",
   "execution_count": 199,
   "metadata": {},
   "outputs": [],
   "source": [
    "add_datepart(test, 'week_start_date')\n",
    "test.drop(['week_start_Year', 'week_start_Week'], axis =1, inplace = True)\n",
    "train_cats(test)"
   ]
  },
  {
   "cell_type": "code",
   "execution_count": 205,
   "metadata": {},
   "outputs": [
    {
     "data": {
      "text/plain": [
       "((416, 34), (1164, 54))"
      ]
     },
     "execution_count": 205,
     "metadata": {},
     "output_type": "execute_result"
    }
   ],
   "source": [
    "test.shape"
   ]
  },
  {
   "cell_type": "code",
   "execution_count": 201,
   "metadata": {},
   "outputs": [
    {
     "data": {
      "text/plain": [
       "city                                     0.000000\n",
       "ndvi_ne                                  0.103365\n",
       "ndvi_nw                                  0.026442\n",
       "ndvi_se                                  0.002404\n",
       "ndvi_sw                                  0.002404\n",
       "precipitation_amt_mm                     0.004808\n",
       "reanalysis_air_temp_k                    0.004808\n",
       "reanalysis_avg_temp_k                    0.004808\n",
       "reanalysis_dew_point_temp_k              0.004808\n",
       "reanalysis_max_air_temp_k                0.004808\n",
       "reanalysis_min_air_temp_k                0.004808\n",
       "reanalysis_precip_amt_kg_per_m2          0.004808\n",
       "reanalysis_relative_humidity_percent     0.004808\n",
       "reanalysis_sat_precip_amt_mm             0.004808\n",
       "reanalysis_specific_humidity_g_per_kg    0.004808\n",
       "reanalysis_tdtr_k                        0.004808\n",
       "station_avg_temp_c                       0.028846\n",
       "station_diur_temp_rng_c                  0.028846\n",
       "station_max_temp_c                       0.007212\n",
       "station_min_temp_c                       0.021635\n",
       "station_precip_mm                        0.012019\n",
       "week_start_Day                           0.000000\n",
       "week_start_Dayofweek                     0.000000\n",
       "week_start_Dayofyear                     0.000000\n",
       "week_start_Elapsed                       0.000000\n",
       "week_start_Is_month_end                  0.000000\n",
       "week_start_Is_month_start                0.000000\n",
       "week_start_Is_quarter_end                0.000000\n",
       "week_start_Is_quarter_start              0.000000\n",
       "week_start_Is_year_end                   0.000000\n",
       "week_start_Is_year_start                 0.000000\n",
       "week_start_Month                         0.000000\n",
       "weekofyear                               0.000000\n",
       "year                                     0.000000\n",
       "dtype: float64"
      ]
     },
     "metadata": {},
     "output_type": "display_data"
    }
   ],
   "source": [
    "display_all(test.isnull().sum().sort_index()/len(test))"
   ]
  },
  {
   "cell_type": "markdown",
   "metadata": {},
   "source": [
    "We also have missing values for the test set, and we need to impute them accordingly with the same imputations as the train set. "
   ]
  },
  {
   "cell_type": "code",
   "execution_count": 203,
   "metadata": {},
   "outputs": [
    {
     "data": {
      "text/plain": [
       "city                                     category\n",
       "year                                        int64\n",
       "weekofyear                                  int64\n",
       "ndvi_ne                                   float64\n",
       "ndvi_nw                                   float64\n",
       "ndvi_se                                   float64\n",
       "ndvi_sw                                   float64\n",
       "precipitation_amt_mm                      float64\n",
       "reanalysis_air_temp_k                     float64\n",
       "reanalysis_avg_temp_k                     float64\n",
       "reanalysis_dew_point_temp_k               float64\n",
       "reanalysis_max_air_temp_k                 float64\n",
       "reanalysis_min_air_temp_k                 float64\n",
       "reanalysis_precip_amt_kg_per_m2           float64\n",
       "reanalysis_relative_humidity_percent      float64\n",
       "reanalysis_sat_precip_amt_mm              float64\n",
       "reanalysis_specific_humidity_g_per_kg     float64\n",
       "reanalysis_tdtr_k                         float64\n",
       "station_avg_temp_c                        float64\n",
       "station_diur_temp_rng_c                   float64\n",
       "station_max_temp_c                        float64\n",
       "station_min_temp_c                        float64\n",
       "station_precip_mm                         float64\n",
       "week_start_Month                            int64\n",
       "week_start_Day                              int64\n",
       "week_start_Dayofweek                        int64\n",
       "week_start_Dayofyear                        int64\n",
       "week_start_Is_month_end                      bool\n",
       "week_start_Is_month_start                    bool\n",
       "week_start_Is_quarter_end                    bool\n",
       "week_start_Is_quarter_start                  bool\n",
       "week_start_Is_year_end                       bool\n",
       "week_start_Is_year_start                     bool\n",
       "week_start_Elapsed                          int64\n",
       "dtype: object"
      ]
     },
     "execution_count": 203,
     "metadata": {},
     "output_type": "execute_result"
    }
   ],
   "source": [
    "test.dtypes"
   ]
  },
  {
   "cell_type": "code",
   "execution_count": 207,
   "metadata": {},
   "outputs": [],
   "source": [
    "X_test, _, nas = proc_df(test, na_dict=nas)"
   ]
  },
  {
   "cell_type": "code",
   "execution_count": 210,
   "metadata": {},
   "outputs": [
    {
     "data": {
      "text/plain": [
       "((416, 54), (1164, 54))"
      ]
     },
     "execution_count": 210,
     "metadata": {},
     "output_type": "execute_result"
    }
   ],
   "source": [
    "X_test.shape, X_train.shape"
   ]
  },
  {
   "cell_type": "markdown",
   "metadata": {},
   "source": [
    "#### Submission 1 "
   ]
  },
  {
   "cell_type": "code",
   "execution_count": 211,
   "metadata": {},
   "outputs": [],
   "source": [
    "pred_cases1 = m2.predict(X_test)"
   ]
  },
  {
   "cell_type": "code",
   "execution_count": 212,
   "metadata": {},
   "outputs": [],
   "source": [
    "submission1 = pd.DataFrame()\n",
    "submission1['city'] = test['city']\n",
    "submission1['year'] = test['year']\n",
    "submission1['weekofyear'] = test['weekofyear']"
   ]
  },
  {
   "cell_type": "code",
   "execution_count": 253,
   "metadata": {},
   "outputs": [],
   "source": [
    "pred = pred_cases1.astype(int, copy = True);"
   ]
  },
  {
   "cell_type": "code",
   "execution_count": 254,
   "metadata": {},
   "outputs": [],
   "source": [
    "submission1['total_cases']= pred"
   ]
  },
  {
   "cell_type": "markdown",
   "metadata": {},
   "source": [
    "submission1.head()"
   ]
  },
  {
   "cell_type": "code",
   "execution_count": 256,
   "metadata": {},
   "outputs": [],
   "source": [
    "submission1.to_csv('dengAI_subm1.csv', index=False)"
   ]
  },
  {
   "cell_type": "markdown",
   "metadata": {},
   "source": [
    "### Submission 2 "
   ]
  },
  {
   "cell_type": "code",
   "execution_count": 285,
   "metadata": {},
   "outputs": [],
   "source": [
    "pred_cases2 = m3.predict(X_test)"
   ]
  },
  {
   "cell_type": "code",
   "execution_count": 286,
   "metadata": {},
   "outputs": [],
   "source": [
    "submission2 = pd.DataFrame()\n",
    "submission2['city'] = test['city']\n",
    "submission2['year'] = test['year']\n",
    "submission2['weekofyear'] = test['weekofyear']"
   ]
  },
  {
   "cell_type": "code",
   "execution_count": 287,
   "metadata": {},
   "outputs": [],
   "source": [
    "pred2 = pred_cases2.astype(int, copy = True);"
   ]
  },
  {
   "cell_type": "code",
   "execution_count": 290,
   "metadata": {},
   "outputs": [],
   "source": [
    "submission2['total_cases']= pred2"
   ]
  },
  {
   "cell_type": "code",
   "execution_count": 291,
   "metadata": {},
   "outputs": [],
   "source": [
    "submission2.to_csv('dengAI_subm2.csv', index=False)"
   ]
  },
  {
   "cell_type": "markdown",
   "metadata": {},
   "source": [
    "### Submission 3 "
   ]
  },
  {
   "cell_type": "code",
   "execution_count": 294,
   "metadata": {},
   "outputs": [],
   "source": [
    "pred_cases3 = m4.predict(X_test)"
   ]
  },
  {
   "cell_type": "code",
   "execution_count": 295,
   "metadata": {},
   "outputs": [],
   "source": [
    "submission3 = pd.DataFrame()\n",
    "submission3['city'] = test['city']\n",
    "submission3['year'] = test['year']\n",
    "submission3['weekofyear'] = test['weekofyear']"
   ]
  },
  {
   "cell_type": "code",
   "execution_count": 296,
   "metadata": {},
   "outputs": [],
   "source": [
    "pred3 = pred_cases3.astype(int, copy = True);"
   ]
  },
  {
   "cell_type": "code",
   "execution_count": 297,
   "metadata": {},
   "outputs": [],
   "source": [
    "submission3['total_cases']= pred3"
   ]
  },
  {
   "cell_type": "code",
   "execution_count": 298,
   "metadata": {},
   "outputs": [],
   "source": [
    "submission3.to_csv('dengAI_subm3.csv', index=False)"
   ]
  }
 ],
 "metadata": {
  "kernelspec": {
   "display_name": "Python 3",
   "language": "python",
   "name": "python3"
  },
  "language_info": {
   "codemirror_mode": {
    "name": "ipython",
    "version": 3
   },
   "file_extension": ".py",
   "mimetype": "text/x-python",
   "name": "python",
   "nbconvert_exporter": "python",
   "pygments_lexer": "ipython3",
   "version": "3.6.10"
  }
 },
 "nbformat": 4,
 "nbformat_minor": 4
}
